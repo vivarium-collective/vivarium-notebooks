{
 "cells": [
  {
   "cell_type": "markdown",
   "metadata": {
    "id": "NQT2_XI-uyAL"
   },
   "source": [
    "# BioscrapeCOBRA: a hyrid composite of chemical reaction networks with flux balance analysis\n",
    "\n",
    "## Overview\n",
    "This notebook combines a chemical reaction network model with a flux balance analysis model, and a physics engine\n",
    "\n",
    "* SBML\n",
    "* BiGG model"
   ]
  },
  {
   "cell_type": "code",
   "execution_count": 1,
   "metadata": {
    "executionInfo": {
     "elapsed": 11219,
     "status": "ok",
     "timestamp": 1611076563161,
     "user": {
      "displayName": "William Poole",
      "photoUrl": "",
      "userId": "07207170381362889504"
     },
     "user_tz": 480
    },
    "id": "VkyPQ-ACuqmR"
   },
   "outputs": [
    {
     "data": {
      "text/plain": [
       "'\\n%%capture\\n!pip install git+https://github.com/vivarium-collective/vivarium-notebooks\\n!pip install vivarium-core==0.1.5\\n!pip install vivarium-cobra==0.0.6\\n!pip install vivarium-pymunk==0.0.2\\n!pip install vivarium-bioscrape\\n'"
      ]
     },
     "execution_count": 1,
     "metadata": {},
     "output_type": "execute_result"
    }
   ],
   "source": [
    "#@title install vivarium libraries\n",
    "\n",
    "#Uncomment in Colab Below\n",
    "\n",
    "\"\"\"\n",
    "%%capture\n",
    "!pip install git+https://github.com/vivarium-collective/vivarium-notebooks\n",
    "!pip install vivarium-core==0.1.5\n",
    "!pip install vivarium-cobra==0.0.6\n",
    "!pip install vivarium-pymunk==0.0.2\n",
    "!pip install vivarium-bioscrape\n",
    "\"\"\""
   ]
  },
  {
   "cell_type": "code",
   "execution_count": 14,
   "metadata": {
    "executionInfo": {
     "elapsed": 13240,
     "status": "ok",
     "timestamp": 1611076565188,
     "user": {
      "displayName": "William Poole",
      "photoUrl": "",
      "userId": "07207170381362889504"
     },
     "user_tz": 480
    },
    "id": "zH0CHGrmFL74"
   },
   "outputs": [],
   "source": [
    "#@title imports\n",
    "import numpy as np\n",
    "import pylab as plt\n",
    "\n",
    "# process/composition interface\n",
    "from vivarium.core.process import (\n",
    "    Process, Deriver, Composite,\n",
    ")\n",
    "\n",
    "# helper functions for composition\n",
    "from vivarium.core.composition import (\n",
    "    simulate_process_in_experiment,\n",
    "    simulate_compartment_in_experiment,\n",
    "    compartment_in_experiment,\n",
    "    compose_experiment,\n",
    "    FACTORY_KEY,\n",
    ")\n",
    "\n",
    "# other vivarium imports\n",
    "from vivarium.core.experiment import Experiment, pp\n",
    "from vivarium.library.units import units\n",
    "\n",
    "# vivarium plotting functions\n",
    "from vivarium.plots.simulation_output import plot_simulation_output\n",
    "from vivarium.plots.agents_multigen import plot_agents_multigen\n",
    "from vivarium.plots.topology import plot_topology\n",
    "\n",
    "# import processes and composites\n",
    "from vivarium.processes.tree_mass import TreeMass\n",
    "from vivarium.processes.divide_condition import DivideCondition\n",
    "from vivarium.processes.meta_division import MetaDivision\n",
    "\n",
    "# vivarium-cobra processes\n",
    "from vivarium_cobra.processes.volume import Volume\n",
    "from vivarium_cobra.composites.cobra_composite import CobraComposite\n",
    "from vivarium_cobra.processes.dynamic_fba import (\n",
    "    DynamicFBA, \n",
    "    get_iAF1260b_config, \n",
    "    print_growth\n",
    ")\n",
    "\n",
    "# vivarium-bioscrape processes\n",
    "from vivarium_bioscrape.processes.bioscrape import Bioscrape\n"
   ]
  },
  {
   "cell_type": "code",
   "execution_count": 53,
   "metadata": {},
   "outputs": [],
   "source": [
    "# plotting function for metabolism output\n",
    "def plot_metabolism(data, ncol=3):\n",
    "    original_fontsize = plt.rcParams['font.size']\n",
    "    plt.rcParams.update({'font.size': 9})\n",
    "    \n",
    "    # initialize subplots\n",
    "    row_height = 1.8\n",
    "    n_rows = 3\n",
    "    fig = plt.figure(figsize=(8, n_rows*row_height))\n",
    "    grid = plt.GridSpec(n_rows, 1)\n",
    "    \n",
    "    time_vec = data['time']\n",
    "        \n",
    "    # external\n",
    "    ax1 = fig.add_subplot(grid[0, 0])  \n",
    "    for mol_id, series in data['external'].items():\n",
    "        if sum(series) != 0.0:\n",
    "            ax1.plot(time_vec, series, label = mol_id)\n",
    "    ax1.set_title('external concentrations (log)')\n",
    "    ax1.set_yscale('log')\n",
    "    ax1.spines['right'].set_visible(False)\n",
    "    ax1.spines['top'].set_visible(False)\n",
    "    ax1.spines['bottom'].set_visible(False)\n",
    "    ax1.tick_params(bottom=False, labelbottom=False)\n",
    "       \n",
    "    # internal\n",
    "    ax2 = fig.add_subplot(grid[1, 0])  \n",
    "    for mol_id, series in data['internal_counts'].items():\n",
    "        if sum(series) != 0.0:\n",
    "            ax2.plot(time_vec, series, label = mol_id)\n",
    "    ax2.set_title('internal molecule counts (log)')\n",
    "    ax2.set_yscale('log')\n",
    "    ax2.spines['right'].set_visible(False)\n",
    "    ax2.spines['top'].set_visible(False)   \n",
    "    ax2.spines['bottom'].set_visible(False)\n",
    "    ax2.tick_params(bottom=False, labelbottom=False)\n",
    "    \n",
    "    # mass\n",
    "    ax3 = fig.add_subplot(grid[2, 0])  \n",
    "    ax3.plot(time_vec, data['global'][('mass', 'femtogram')], label = 'mass')\n",
    "    ax3.set_title('total mass (fg)')\n",
    "    ax3.set_xlabel('time (sec)')\n",
    "    ax3.spines['right'].set_visible(False)\n",
    "    ax3.spines['top'].set_visible(False) \n",
    "\n",
    "    fig.tight_layout()\n",
    "    plt.rcParams.update({'font.size': original_fontsize})"
   ]
  },
  {
   "cell_type": "markdown",
   "metadata": {
    "id": "8FZg-ikaFL8E"
   },
   "source": [
    "# Flux Balance Analysis with COBRA\n",
    "\n",
    " * This process is a wrapper for the popular FBA solver [COBRA](https://cobrapy.readthedocs.io/en/latest/).\n",
    " * Metabolism is initialized with a [BiGG metabolic model](http://bigg.ucsd.edu) called *iAF1260b*, which has 2382 reactions, 1261 genes, and 166 metabolites."
   ]
  },
  {
   "cell_type": "code",
   "execution_count": 54,
   "metadata": {
    "colab": {
     "base_uri": "https://localhost:8080/"
    },
    "executionInfo": {
     "elapsed": 53103,
     "status": "ok",
     "timestamp": 1611076605062,
     "user": {
      "displayName": "William Poole",
      "photoUrl": "",
      "userId": "07207170381362889504"
     },
     "user_tz": 480
    },
    "id": "zBZdI6F7FL8F",
    "outputId": "85bf3675-45a1-4d0f-c6ba-f33080d816a8"
   },
   "outputs": [
    {
     "name": "stdout",
     "output_type": "stream",
     "text": [
      "\n",
      "Experiment ID: 9fb072d0-5f61-11eb-b5f3-acde48001122\n",
      "Created: 01/25/2021 at 15:04:06\n",
      "Completed in 30.00 seconds\n"
     ]
    }
   ],
   "source": [
    "compartment_in_experiment\n",
    "# get the configuration for the iAF1260b BiGG model\n",
    "cobra_config = get_iAF1260b_config()\n",
    "cobra_config.update({'time_step': 10})\n",
    "config = {'cobra': cobra_config}   \n",
    "\n",
    "# load it into DynamicFBA\n",
    "metabolism = CobraComposite(config)\n",
    "\n",
    "# get the model's initial state\n",
    "initial_state = metabolism.initial_state({}) \n",
    "\n",
    "# run simulation\n",
    "sim_settings = {\n",
    "    'initial_state': initial_state,\n",
    "    'total_time': 2500}\n",
    "cobra_timeseries = simulate_compartment_in_experiment(metabolism, sim_settings)"
   ]
  },
  {
   "cell_type": "code",
   "execution_count": 55,
   "metadata": {
    "colab": {
     "base_uri": "https://localhost:8080/",
     "height": 477
    },
    "executionInfo": {
     "elapsed": 54908,
     "status": "ok",
     "timestamp": 1611076606871,
     "user": {
      "displayName": "William Poole",
      "photoUrl": "",
      "userId": "07207170381362889504"
     },
     "user_tz": 480
    },
    "id": "coGEbGv7FL8G",
    "outputId": "bdd18e73-d7bd-4ed6-e1a3-2e04a7b9e49c"
   },
   "outputs": [
    {
     "name": "stdout",
     "output_type": "stream",
     "text": [
      "volume growth: 1.9537412863469115\n",
      "mass growth: 1.9537412863469115\n"
     ]
    },
    {
     "data": {
      "image/png": "[encoded data removed]",
      "text/plain": [
       "<Figure size 576x388.8 with 3 Axes>"
      ]
     },
     "metadata": {
      "needs_background": "light"
     },
     "output_type": "display_data"
    }
   ],
   "source": [
    "print_growth(cobra_timeseries['global'])\n",
    "plot_metabolism(cobra_timeseries)"
   ]
  },
  {
   "cell_type": "markdown",
   "metadata": {
    "id": "h7WS_wIhFL8H"
   },
   "source": [
    "# Chemical Reaction Network with SBML "
   ]
  },
  {
   "cell_type": "code",
   "execution_count": 6,
   "metadata": {
    "colab": {
     "base_uri": "https://localhost:8080/",
     "height": 404
    },
    "executionInfo": {
     "elapsed": 54908,
     "status": "error",
     "timestamp": 1611076606880,
     "user": {
      "displayName": "William Poole",
      "photoUrl": "",
      "userId": "07207170381362889504"
     },
     "user_tz": 480
    },
    "id": "u_fcOodvFL8I",
    "outputId": "8dc07e5f-666f-49f9-99d2-6d83f9fb1eed"
   },
   "outputs": [],
   "source": [
    "time_step = 1\n",
    "total_time = 2500\n",
    "\n",
    "# initialize Bioscrape process\n",
    "bioscrape_config = {\n",
    "    'sbml_file': 'LacOperon_simple.xml',\n",
    "    'time_step': time_step}\n",
    "bioscrape_process = Bioscrape(bioscrape_config)\n",
    "\n",
    "# initial state\n",
    "initial_state = bioscrape_process.initial_state()\n",
    "\n",
    "# run simulation\n",
    "settings = {\n",
    "    'total_time': total_time,\n",
    "    'initial_state': initial_state,\n",
    "    'display_info': False,\n",
    "    'progress_bar': False}\n",
    "bioscrape_timeseries = simulate_process_in_experiment(bioscrape_process, settings)"
   ]
  },
  {
   "cell_type": "code",
   "execution_count": 7,
   "metadata": {
    "executionInfo": {
     "elapsed": 54895,
     "status": "aborted",
     "timestamp": 1611076606872,
     "user": {
      "displayName": "William Poole",
      "photoUrl": "",
      "userId": "07207170381362889504"
     },
     "user_tz": 480
    },
    "id": "ePse9RLCFL8I"
   },
   "outputs": [
    {
     "data": {
      "image/png": "[encoded data removed]",
      "text/plain": [
       "<Figure size 648x792 with 21 Axes>"
      ]
     },
     "metadata": {
      "needs_background": "light"
     },
     "output_type": "display_data"
    }
   ],
   "source": [
    "fig = plot_simulation_output(bioscrape_timeseries)"
   ]
  },
  {
   "cell_type": "markdown",
   "metadata": {
    "id": "JShOy66_yZLE"
   },
   "source": [
    "# Multibody physics with pymunk"
   ]
  },
  {
   "cell_type": "code",
   "execution_count": 8,
   "metadata": {
    "executionInfo": {
     "elapsed": 54892,
     "status": "aborted",
     "timestamp": 1611076606873,
     "user": {
      "displayName": "William Poole",
      "photoUrl": "",
      "userId": "07207170381362889504"
     },
     "user_tz": 480
    },
    "id": "Fb9-RNexI-Yb"
   },
   "outputs": [],
   "source": [
    "from vivarium_pymunk.processes.multibody_physics import Multibody\n",
    "\n",
    "# TODO -- minimal Growth/Division example here\n",
    "# This can ideally be merged in with BioscrapeCOBRA"
   ]
  },
  {
   "cell_type": "markdown",
   "metadata": {
    "id": "UyuE0SCEFL8J"
   },
   "source": [
    "# BioscrapeCOBRA: a CRN/FBA Composite\n",
    "\n",
    "This also includes several adaptor \"Deriver\" Processes, such as FluxDeriver and BiomassAdaptor\n",
    "\n",
    "* BiomassAdaptor demonstrates vivarium units, and also the use of a Deriver as an adaptor between Processes"
   ]
  },
  {
   "cell_type": "code",
   "execution_count": 9,
   "metadata": {
    "executionInfo": {
     "elapsed": 54888,
     "status": "aborted",
     "timestamp": 1611076606874,
     "user": {
      "displayName": "William Poole",
      "photoUrl": "",
      "userId": "07207170381362889504"
     },
     "user_tz": 480
    },
    "id": "cYiVe25UYYE8"
   },
   "outputs": [],
   "source": [
    "\n",
    "# TODO -- FluxDeriver works for deterministic dynamics, stochastic will require something else.\n",
    "# calculate weighted average back in time based on COBRA timestep?\n",
    "\n",
    "class FluxDeriver(Deriver):\n",
    "    \"\"\" Bioscrape delta species to fluxes for constraining COBRA \"\"\"\n",
    "    \n",
    "    defaults = {\n",
    "        'time_step': 1,\n",
    "        'flux_keys': []}\n",
    "\n",
    "    def initial_state(self, config=None):\n",
    "        return {}\n",
    "\n",
    "    def ports_schema(self):\n",
    "        return {\n",
    "            'deltas': {\n",
    "                flux_key: {\n",
    "                    '_default': 0.0}\n",
    "                for flux_key in self.parameters['flux_keys']\n",
    "            },\n",
    "            'fluxes': {\n",
    "                flux_key: {\n",
    "                    '_default': 0.0,\n",
    "                    '_updater': 'set'}\n",
    "                for flux_key in self.parameters['flux_keys']\n",
    "            }}\n",
    "\n",
    "    def next_update(self, timestep, states):\n",
    "        deltas = states['deltas']\n",
    "        update = {\n",
    "            'fluxes': {\n",
    "                reaction_id: delta / self.parameters['time_step']\n",
    "                for reaction_id, delta in deltas.items()}}\n",
    "        return update\n",
    "\n",
    "    \n",
    "class BiomassAdaptor(Deriver):\n",
    "    \"\"\" Adapts COBRA mass variable to Bioscrape biomass \"\"\"\n",
    "    \n",
    "    defaults = {\n",
    "        'input_mass_units':1.0 * units.fg,\n",
    "        'input_volume_units':1.0 * units.fL,\n",
    "        'output_mass_units':1.0 *units.mmolar,\n",
    "        'output_volume_units':1.0 *units.fL,\n",
    "        'mass_species_molecular_weight':1.0 *units.fg/units.molec\n",
    "    }\n",
    "    \n",
    "    def initial_state(self, config=None):\n",
    "        return {}\n",
    "\n",
    "    def ports_schema(self):\n",
    "        return {\n",
    "            'input': {\n",
    "                'mass': {\n",
    "                    '_default': 1.0 * units.fg},  \n",
    "                'volume': {\n",
    "                    '_default': 1.0 * units.fL},\n",
    "            },\n",
    "            'output': {\n",
    "                # the value used by Bioscrape\n",
    "                'biomass': {\n",
    "                    '_default': 1.0}\n",
    "                }\n",
    "        }\n",
    "\n",
    "\n",
    "    def next_update(self, timestep, states):\n",
    "        mass = states['input']['mass']\n",
    "        volume = states['input']['volume']\n",
    "        \n",
    "        # do conversion\n",
    "        mass_species_molecular_weight = self.config['mass_species_molecular_weight']\n",
    "        count_mass_species = mass/mass_species_molecular_weight\n",
    "        mass_species_conc = count_mass_species/volume\n",
    "        output_mass_units = self.config['output_mass_units']\n",
    "    \n",
    "        update = {\n",
    "            'output': {\n",
    "                'biomass': mass_species_conc.to(output_mass_units).magnitude\n",
    "                }\n",
    "            }\n",
    "    \n",
    "#         print(update)\n",
    "        return update\n",
    "    "
   ]
  },
  {
   "cell_type": "markdown",
   "metadata": {},
   "source": [
    "# BioscrapeCOBRA \n",
    "\n",
    "This composite demonstrates advanced generate_topology() methods, which split ports across multiple stores with `'_path'`"
   ]
  },
  {
   "cell_type": "code",
   "execution_count": 10,
   "metadata": {},
   "outputs": [],
   "source": [
    "\n",
    "class BioscrapeCOBRA(Composite):\n",
    "    \"\"\"\n",
    "    TODO:\n",
    "        * units for Biomass is in mmol/L of a species with mw of 1 fg/count = avagadro's number * fg / mol\n",
    "        * import of Glucose is also in terms of 'Biomass' species\n",
    "        * stochastically, it is in counts. Volume\n",
    "        * logic for counts/concentrations if stochastic/deterministic\n",
    "        * Bioscrape species 'Lactose_internal', 'Lactose_external' need to get wired to ('external',),\n",
    "            But don't let Bioscrape update them. Only use FBA's resulting uptake.\n",
    "    \"\"\"\n",
    "\n",
    "    # set cobra constrained reactions\n",
    "    cobra_config = get_iAF1260b_config()\n",
    "    cobra_config.update({'time_step': 10})\n",
    "\n",
    "    defaults = {\n",
    "        'bioscrape': {\n",
    "            'sbml_file': 'LacOperon_simple_no_dilution.xml',\n",
    "            'stochastic': False,\n",
    "            'initial_volume': 1,\n",
    "            'internal_dt': 0.01,\n",
    "        },\n",
    "        'cobra': cobra_config,\n",
    "        'flux_deriver': {\n",
    "            'flux_keys': [\n",
    "                'Lactose_consumed',\n",
    "                'Glucose_internal',\n",
    "            ]\n",
    "        },\n",
    "        # is division turned on?\n",
    "        'divide_on': False,\n",
    "        'agent_id': np.random.randint(0, 100),\n",
    "        'divide_condition': {\n",
    "            'threshold': 3000 * units.fg},\n",
    "        'agents_path': ('..', '..', 'agents',),\n",
    "        'daughter_path': tuple(),\n",
    "        # override bioscrape ('species', 'Biomass') with a 'set' updater\n",
    "        '_schema': {\n",
    "            'bioscrape': {\n",
    "                'species': {\n",
    "                    'Biomass': {\n",
    "                        '_updater': 'set'\n",
    "                    }\n",
    "                }\n",
    "            }\n",
    "        }\n",
    "    }\n",
    "\n",
    "    def generate_processes(self, config):\n",
    "\n",
    "        bioscrape_process = Bioscrape(config['bioscrape'])\n",
    "        cobra_process = DynamicFBA(config['cobra'])\n",
    "        flux_deriver = FluxDeriver(config['flux_deriver'])\n",
    "\n",
    "        # logic for counts/concentrations if stochastic/deterministic\n",
    "        if config['bioscrape']['stochastic']:\n",
    "            pass\n",
    "\n",
    "        processes = {\n",
    "            'bioscrape': bioscrape_process,\n",
    "            'cobra': cobra_process,\n",
    "            'mass_deriver': TreeMass(),\n",
    "            'volume_deriver': Volume(),\n",
    "            'flux_deriver': flux_deriver,\n",
    "            'biomass_adaptor': BiomassAdaptor(),\n",
    "        }\n",
    "        if config['divide_on']:\n",
    "            # division config\n",
    "            daughter_path = config['daughter_path']\n",
    "            agent_id = config['agent_id']\n",
    "            division_config = dict(\n",
    "                config.get('division', {}),\n",
    "                daughter_path=daughter_path,\n",
    "                agent_id=agent_id,\n",
    "                generator=self)\n",
    "\n",
    "            processes.update({\n",
    "                'divide_condition': DivideCondition(config['divide_condition']),\n",
    "                'division': MetaDivision(division_config)\n",
    "            })\n",
    "        return processes\n",
    "\n",
    "    def generate_topology(self, config):\n",
    "\n",
    "        topology = {\n",
    "            'bioscrape': {\n",
    "                # all species go to a species store on the base level,\n",
    "                # except Biomass, which goes to the 'globals' store, with variable 'biomass'\n",
    "                'species': {\n",
    "                    '_path': ('species',),\n",
    "                    'Biomass': ('..', 'globals', 'biomass'),\n",
    "                },\n",
    "                'delta_species': ('delta_species',),\n",
    "                'rates': ('rates',),\n",
    "                'globals': ('globals',),\n",
    "            },\n",
    "            'cobra': {\n",
    "                'internal_counts': ('internal_counts',),\n",
    "                'external': ('external',),\n",
    "                'exchanges': ('exchanges',),\n",
    "                'reactions': ('reactions',),\n",
    "                'flux_bounds': ('flux_bounds',),\n",
    "                'global': ('globals',),\n",
    "            },\n",
    "            'flux_deriver': {\n",
    "                'deltas': ('delta_species',),\n",
    "                # connect Bioscrape deltas 'Lactose_consumed' and 'Glucose_internal'\n",
    "                # to COBRA flux bounds 'EX_lac__D_e' and 'EX_glc__D_e'\n",
    "                'fluxes':\n",
    "                    {\n",
    "                        '_path': ('flux_bounds',),\n",
    "                        'Lactose_consumed': ('EX_lac__D_e',),\n",
    "                        'Glucose_internal': ('EX_glc__D_e',),\n",
    "                    }\n",
    "            },\n",
    "            'mass_deriver': {\n",
    "                'global': ('globals',),\n",
    "            },\n",
    "            'volume_deriver': {\n",
    "                'global': ('globals',),\n",
    "            },\n",
    "            'biomass_adaptor': {\n",
    "                'input': ('globals',),\n",
    "                'output': ('globals',),\n",
    "            }\n",
    "        }\n",
    "        if config['divide_on']:\n",
    "            agents_path = config['agents_path']\n",
    "\n",
    "            # connect divide_condition to the mass variable\n",
    "            topology.update({\n",
    "                'divide_condition': {\n",
    "                    'variable': ('globals', 'mass',),\n",
    "                    'divide': ('globals', 'divide',),\n",
    "                },\n",
    "                'division': {\n",
    "                    'global': ('globals',),\n",
    "                    'agents': agents_path,\n",
    "                },\n",
    "            })\n",
    "        return topology"
   ]
  },
  {
   "cell_type": "code",
   "execution_count": 11,
   "metadata": {},
   "outputs": [
    {
     "name": "stdout",
     "output_type": "stream",
     "text": [
      "\n",
      "Experiment ID: 5af3e71e-5f5f-11eb-b5f3-acde48001122\n",
      "Created: 01/25/2021 at 14:47:51\n"
     ]
    },
    {
     "name": "stderr",
     "output_type": "stream",
     "text": [
      "/Users/eranagmon/.pyenv/versions/3.8.3/envs/notebooks/lib/python3.8/site-packages/cobra/util/solver.py:508: UserWarning: Solver status is 'infeasible'.\n",
      "  warn(f\"Solver status is '{status}'.\", UserWarning)\n"
     ]
    },
    {
     "ename": "KeyboardInterrupt",
     "evalue": "",
     "output_type": "error",
     "traceback": [
      "\u001b[0;31m---------------------------------------------------------------------------\u001b[0m",
      "\u001b[0;31mKeyboardInterrupt\u001b[0m                         Traceback (most recent call last)",
      "\u001b[0;32m<ipython-input-11-4c565a4bfcc4>\u001b[0m in \u001b[0;36m<module>\u001b[0;34m\u001b[0m\n\u001b[1;32m     13\u001b[0m     \u001b[0;34m'initial_state'\u001b[0m\u001b[0;34m:\u001b[0m \u001b[0minitial_state\u001b[0m\u001b[0;34m,\u001b[0m\u001b[0;34m\u001b[0m\u001b[0;34m\u001b[0m\u001b[0m\n\u001b[1;32m     14\u001b[0m     'total_time': 2000}\n\u001b[0;32m---> 15\u001b[0;31m bioscrape_cobra_output = simulate_compartment_in_experiment(\n\u001b[0m\u001b[1;32m     16\u001b[0m     \u001b[0mcomposite\u001b[0m\u001b[0;34m,\u001b[0m\u001b[0;34m\u001b[0m\u001b[0;34m\u001b[0m\u001b[0m\n\u001b[1;32m     17\u001b[0m     settings)\n",
      "\u001b[0;32m~/.pyenv/versions/3.8.3/envs/notebooks/lib/python3.8/site-packages/vivarium/core/composition.py\u001b[0m in \u001b[0;36msimulate_compartment_in_experiment\u001b[0;34m(compartment, settings)\u001b[0m\n\u001b[1;32m    499\u001b[0m     \u001b[0msettings\u001b[0m \u001b[0;34m=\u001b[0m \u001b[0msettings\u001b[0m \u001b[0;32mor\u001b[0m \u001b[0;34m{\u001b[0m\u001b[0;34m}\u001b[0m\u001b[0;34m\u001b[0m\u001b[0;34m\u001b[0m\u001b[0m\n\u001b[1;32m    500\u001b[0m     \u001b[0mexperiment\u001b[0m \u001b[0;34m=\u001b[0m \u001b[0mcompartment_in_experiment\u001b[0m\u001b[0;34m(\u001b[0m\u001b[0mcompartment\u001b[0m\u001b[0;34m,\u001b[0m \u001b[0msettings\u001b[0m\u001b[0;34m)\u001b[0m\u001b[0;34m\u001b[0m\u001b[0;34m\u001b[0m\u001b[0m\n\u001b[0;32m--> 501\u001b[0;31m     \u001b[0;32mreturn\u001b[0m \u001b[0msimulate_experiment\u001b[0m\u001b[0;34m(\u001b[0m\u001b[0mexperiment\u001b[0m\u001b[0;34m,\u001b[0m \u001b[0msettings\u001b[0m\u001b[0;34m)\u001b[0m\u001b[0;34m\u001b[0m\u001b[0;34m\u001b[0m\u001b[0m\n\u001b[0m\u001b[1;32m    502\u001b[0m \u001b[0;34m\u001b[0m\u001b[0m\n\u001b[1;32m    503\u001b[0m \u001b[0;34m\u001b[0m\u001b[0m\n",
      "\u001b[0;32m~/.pyenv/versions/3.8.3/envs/notebooks/lib/python3.8/site-packages/vivarium/core/composition.py\u001b[0m in \u001b[0;36msimulate_experiment\u001b[0;34m(experiment, settings)\u001b[0m\n\u001b[1;32m    523\u001b[0m \u001b[0;34m\u001b[0m\u001b[0m\n\u001b[1;32m    524\u001b[0m     \u001b[0;31m# run simulation\u001b[0m\u001b[0;34m\u001b[0m\u001b[0;34m\u001b[0m\u001b[0;34m\u001b[0m\u001b[0m\n\u001b[0;32m--> 525\u001b[0;31m     \u001b[0mexperiment\u001b[0m\u001b[0;34m.\u001b[0m\u001b[0mupdate\u001b[0m\u001b[0;34m(\u001b[0m\u001b[0mtotal_time\u001b[0m\u001b[0;34m)\u001b[0m\u001b[0;34m\u001b[0m\u001b[0;34m\u001b[0m\u001b[0m\n\u001b[0m\u001b[1;32m    526\u001b[0m     \u001b[0mexperiment\u001b[0m\u001b[0;34m.\u001b[0m\u001b[0mend\u001b[0m\u001b[0;34m(\u001b[0m\u001b[0;34m)\u001b[0m\u001b[0;34m\u001b[0m\u001b[0;34m\u001b[0m\u001b[0m\n\u001b[1;32m    527\u001b[0m \u001b[0;34m\u001b[0m\u001b[0m\n",
      "\u001b[0;32m~/.pyenv/versions/3.8.3/envs/notebooks/lib/python3.8/site-packages/vivarium/core/experiment.py\u001b[0m in \u001b[0;36mupdate\u001b[0;34m(self, interval)\u001b[0m\n\u001b[1;32m   1537\u001b[0m                         \u001b[0mpaths\u001b[0m\u001b[0;34m.\u001b[0m\u001b[0mappend\u001b[0m\u001b[0;34m(\u001b[0m\u001b[0mpath\u001b[0m\u001b[0;34m)\u001b[0m\u001b[0;34m\u001b[0m\u001b[0;34m\u001b[0m\u001b[0m\n\u001b[1;32m   1538\u001b[0m \u001b[0;34m\u001b[0m\u001b[0m\n\u001b[0;32m-> 1539\u001b[0;31m                 \u001b[0mself\u001b[0m\u001b[0;34m.\u001b[0m\u001b[0msend_updates\u001b[0m\u001b[0;34m(\u001b[0m\u001b[0mupdates\u001b[0m\u001b[0;34m)\u001b[0m\u001b[0;34m\u001b[0m\u001b[0;34m\u001b[0m\u001b[0m\n\u001b[0m\u001b[1;32m   1540\u001b[0m \u001b[0;34m\u001b[0m\u001b[0m\n\u001b[1;32m   1541\u001b[0m                 \u001b[0mtime\u001b[0m \u001b[0;34m=\u001b[0m \u001b[0mfuture\u001b[0m\u001b[0;34m\u001b[0m\u001b[0;34m\u001b[0m\u001b[0m\n",
      "\u001b[0;32m~/.pyenv/versions/3.8.3/envs/notebooks/lib/python3.8/site-packages/vivarium/core/experiment.py\u001b[0m in \u001b[0;36msend_updates\u001b[0;34m(self, update_tuples)\u001b[0m\n\u001b[1;32m   1457\u001b[0m         \u001b[0;32mfor\u001b[0m \u001b[0mupdate_tuple\u001b[0m \u001b[0;32min\u001b[0m \u001b[0mupdate_tuples\u001b[0m\u001b[0;34m:\u001b[0m\u001b[0;34m\u001b[0m\u001b[0;34m\u001b[0m\u001b[0m\n\u001b[1;32m   1458\u001b[0m             \u001b[0mupdate\u001b[0m\u001b[0;34m,\u001b[0m \u001b[0mprocess_topology\u001b[0m\u001b[0;34m,\u001b[0m \u001b[0mstate\u001b[0m \u001b[0;34m=\u001b[0m \u001b[0mupdate_tuple\u001b[0m\u001b[0;34m\u001b[0m\u001b[0;34m\u001b[0m\u001b[0m\n\u001b[0;32m-> 1459\u001b[0;31m             \u001b[0mself\u001b[0m\u001b[0;34m.\u001b[0m\u001b[0mapply_update\u001b[0m\u001b[0;34m(\u001b[0m\u001b[0mupdate\u001b[0m\u001b[0;34m.\u001b[0m\u001b[0mget\u001b[0m\u001b[0;34m(\u001b[0m\u001b[0;34m)\u001b[0m\u001b[0;34m,\u001b[0m \u001b[0mprocess_topology\u001b[0m\u001b[0;34m,\u001b[0m \u001b[0mstate\u001b[0m\u001b[0;34m)\u001b[0m\u001b[0;34m\u001b[0m\u001b[0;34m\u001b[0m\u001b[0m\n\u001b[0m\u001b[1;32m   1460\u001b[0m \u001b[0;34m\u001b[0m\u001b[0m\n\u001b[1;32m   1461\u001b[0m         \u001b[0mself\u001b[0m\u001b[0;34m.\u001b[0m\u001b[0mrun_derivers\u001b[0m\u001b[0;34m(\u001b[0m\u001b[0;34m)\u001b[0m\u001b[0;34m\u001b[0m\u001b[0;34m\u001b[0m\u001b[0m\n",
      "\u001b[0;32m~/.pyenv/versions/3.8.3/envs/notebooks/lib/python3.8/site-packages/vivarium/core/experiment.py\u001b[0m in \u001b[0;36mget\u001b[0;34m(self)\u001b[0m\n\u001b[1;32m   1202\u001b[0m \u001b[0;34m\u001b[0m\u001b[0m\n\u001b[1;32m   1203\u001b[0m     \u001b[0;32mdef\u001b[0m \u001b[0mget\u001b[0m\u001b[0;34m(\u001b[0m\u001b[0mself\u001b[0m\u001b[0;34m)\u001b[0m\u001b[0;34m:\u001b[0m\u001b[0;34m\u001b[0m\u001b[0;34m\u001b[0m\u001b[0m\n\u001b[0;32m-> 1204\u001b[0;31m         return self.f(\n\u001b[0m\u001b[1;32m   1205\u001b[0m             \u001b[0mself\u001b[0m\u001b[0;34m.\u001b[0m\u001b[0mdefer\u001b[0m\u001b[0;34m.\u001b[0m\u001b[0mget\u001b[0m\u001b[0;34m(\u001b[0m\u001b[0;34m)\u001b[0m\u001b[0;34m,\u001b[0m\u001b[0;34m\u001b[0m\u001b[0;34m\u001b[0m\u001b[0m\n\u001b[1;32m   1206\u001b[0m             self.args)\n",
      "\u001b[0;32m~/.pyenv/versions/3.8.3/envs/notebooks/lib/python3.8/site-packages/vivarium/core/experiment.py\u001b[0m in \u001b[0;36minvert_topology\u001b[0;34m(update, args)\u001b[0m\n\u001b[1;32m   1170\u001b[0m \u001b[0;32mdef\u001b[0m \u001b[0minvert_topology\u001b[0m\u001b[0;34m(\u001b[0m\u001b[0mupdate\u001b[0m\u001b[0;34m,\u001b[0m \u001b[0margs\u001b[0m\u001b[0;34m)\u001b[0m\u001b[0;34m:\u001b[0m\u001b[0;34m\u001b[0m\u001b[0;34m\u001b[0m\u001b[0m\n\u001b[1;32m   1171\u001b[0m     \u001b[0mpath\u001b[0m\u001b[0;34m,\u001b[0m \u001b[0mtopology\u001b[0m \u001b[0;34m=\u001b[0m \u001b[0margs\u001b[0m\u001b[0;34m\u001b[0m\u001b[0;34m\u001b[0m\u001b[0m\n\u001b[0;32m-> 1172\u001b[0;31m     \u001b[0;32mreturn\u001b[0m \u001b[0minverse_topology\u001b[0m\u001b[0;34m(\u001b[0m\u001b[0mpath\u001b[0m\u001b[0;34m[\u001b[0m\u001b[0;34m:\u001b[0m\u001b[0;34m-\u001b[0m\u001b[0;36m1\u001b[0m\u001b[0;34m]\u001b[0m\u001b[0;34m,\u001b[0m \u001b[0mupdate\u001b[0m\u001b[0;34m,\u001b[0m \u001b[0mtopology\u001b[0m\u001b[0;34m)\u001b[0m\u001b[0;34m\u001b[0m\u001b[0;34m\u001b[0m\u001b[0m\n\u001b[0m\u001b[1;32m   1173\u001b[0m \u001b[0;34m\u001b[0m\u001b[0m\n\u001b[1;32m   1174\u001b[0m \u001b[0;34m\u001b[0m\u001b[0m\n",
      "\u001b[0;32m~/.pyenv/versions/3.8.3/envs/notebooks/lib/python3.8/site-packages/vivarium/library/topology.py\u001b[0m in \u001b[0;36minverse_topology\u001b[0;34m(outer, update, topology)\u001b[0m\n\u001b[1;32m    142\u001b[0m                 \u001b[0minner\u001b[0m \u001b[0;34m=\u001b[0m \u001b[0mnormalize_path\u001b[0m\u001b[0;34m(\u001b[0m\u001b[0mouter\u001b[0m \u001b[0;34m+\u001b[0m \u001b[0mpath\u001b[0m\u001b[0;34m)\u001b[0m\u001b[0;34m\u001b[0m\u001b[0;34m\u001b[0m\u001b[0m\n\u001b[1;32m    143\u001b[0m                 \u001b[0;32mif\u001b[0m \u001b[0misinstance\u001b[0m\u001b[0;34m(\u001b[0m\u001b[0mvalue\u001b[0m\u001b[0;34m,\u001b[0m \u001b[0mdict\u001b[0m\u001b[0;34m)\u001b[0m\u001b[0;34m:\u001b[0m\u001b[0;34m\u001b[0m\u001b[0;34m\u001b[0m\u001b[0m\n\u001b[0;32m--> 144\u001b[0;31m                     inverse = update_in(\n\u001b[0m\u001b[1;32m    145\u001b[0m                         \u001b[0minverse\u001b[0m\u001b[0;34m,\u001b[0m\u001b[0;34m\u001b[0m\u001b[0;34m\u001b[0m\u001b[0m\n\u001b[1;32m    146\u001b[0m                         \u001b[0minner\u001b[0m\u001b[0;34m,\u001b[0m\u001b[0;34m\u001b[0m\u001b[0;34m\u001b[0m\u001b[0m\n",
      "\u001b[0;32m~/.pyenv/versions/3.8.3/envs/notebooks/lib/python3.8/site-packages/vivarium/library/topology.py\u001b[0m in \u001b[0;36mupdate_in\u001b[0;34m(d, path, f)\u001b[0m\n\u001b[1;32m     49\u001b[0m         \u001b[0mhead\u001b[0m \u001b[0;34m=\u001b[0m \u001b[0mpath\u001b[0m\u001b[0;34m[\u001b[0m\u001b[0;36m0\u001b[0m\u001b[0;34m]\u001b[0m\u001b[0;34m\u001b[0m\u001b[0;34m\u001b[0m\u001b[0m\n\u001b[1;32m     50\u001b[0m         \u001b[0md\u001b[0m\u001b[0;34m.\u001b[0m\u001b[0msetdefault\u001b[0m\u001b[0;34m(\u001b[0m\u001b[0mhead\u001b[0m\u001b[0;34m,\u001b[0m \u001b[0;34m{\u001b[0m\u001b[0;34m}\u001b[0m\u001b[0;34m)\u001b[0m\u001b[0;34m\u001b[0m\u001b[0;34m\u001b[0m\u001b[0m\n\u001b[0;32m---> 51\u001b[0;31m         \u001b[0mupdated\u001b[0m \u001b[0;34m=\u001b[0m \u001b[0mcopy\u001b[0m\u001b[0;34m.\u001b[0m\u001b[0mdeepcopy\u001b[0m\u001b[0;34m(\u001b[0m\u001b[0md\u001b[0m\u001b[0;34m)\u001b[0m\u001b[0;34m\u001b[0m\u001b[0;34m\u001b[0m\u001b[0m\n\u001b[0m\u001b[1;32m     52\u001b[0m         \u001b[0mupdated\u001b[0m\u001b[0;34m[\u001b[0m\u001b[0mhead\u001b[0m\u001b[0;34m]\u001b[0m \u001b[0;34m=\u001b[0m \u001b[0mupdate_in\u001b[0m\u001b[0;34m(\u001b[0m\u001b[0md\u001b[0m\u001b[0;34m[\u001b[0m\u001b[0mhead\u001b[0m\u001b[0;34m]\u001b[0m\u001b[0;34m,\u001b[0m \u001b[0mpath\u001b[0m\u001b[0;34m[\u001b[0m\u001b[0;36m1\u001b[0m\u001b[0;34m:\u001b[0m\u001b[0;34m]\u001b[0m\u001b[0;34m,\u001b[0m \u001b[0mf\u001b[0m\u001b[0;34m)\u001b[0m\u001b[0;34m\u001b[0m\u001b[0;34m\u001b[0m\u001b[0m\n\u001b[1;32m     53\u001b[0m         \u001b[0;32mreturn\u001b[0m \u001b[0mupdated\u001b[0m\u001b[0;34m\u001b[0m\u001b[0;34m\u001b[0m\u001b[0m\n",
      "\u001b[0;32m~/.pyenv/versions/3.8.3/lib/python3.8/copy.py\u001b[0m in \u001b[0;36mdeepcopy\u001b[0;34m(x, memo, _nil)\u001b[0m\n\u001b[1;32m    144\u001b[0m     \u001b[0mcopier\u001b[0m \u001b[0;34m=\u001b[0m \u001b[0m_deepcopy_dispatch\u001b[0m\u001b[0;34m.\u001b[0m\u001b[0mget\u001b[0m\u001b[0;34m(\u001b[0m\u001b[0mcls\u001b[0m\u001b[0;34m)\u001b[0m\u001b[0;34m\u001b[0m\u001b[0;34m\u001b[0m\u001b[0m\n\u001b[1;32m    145\u001b[0m     \u001b[0;32mif\u001b[0m \u001b[0mcopier\u001b[0m \u001b[0;32mis\u001b[0m \u001b[0;32mnot\u001b[0m \u001b[0;32mNone\u001b[0m\u001b[0;34m:\u001b[0m\u001b[0;34m\u001b[0m\u001b[0;34m\u001b[0m\u001b[0m\n\u001b[0;32m--> 146\u001b[0;31m         \u001b[0my\u001b[0m \u001b[0;34m=\u001b[0m \u001b[0mcopier\u001b[0m\u001b[0;34m(\u001b[0m\u001b[0mx\u001b[0m\u001b[0;34m,\u001b[0m \u001b[0mmemo\u001b[0m\u001b[0;34m)\u001b[0m\u001b[0;34m\u001b[0m\u001b[0;34m\u001b[0m\u001b[0m\n\u001b[0m\u001b[1;32m    147\u001b[0m     \u001b[0;32melse\u001b[0m\u001b[0;34m:\u001b[0m\u001b[0;34m\u001b[0m\u001b[0;34m\u001b[0m\u001b[0m\n\u001b[1;32m    148\u001b[0m         \u001b[0;32mif\u001b[0m \u001b[0missubclass\u001b[0m\u001b[0;34m(\u001b[0m\u001b[0mcls\u001b[0m\u001b[0;34m,\u001b[0m \u001b[0mtype\u001b[0m\u001b[0;34m)\u001b[0m\u001b[0;34m:\u001b[0m\u001b[0;34m\u001b[0m\u001b[0;34m\u001b[0m\u001b[0m\n",
      "\u001b[0;32m~/.pyenv/versions/3.8.3/lib/python3.8/copy.py\u001b[0m in \u001b[0;36m_deepcopy_dict\u001b[0;34m(x, memo, deepcopy)\u001b[0m\n\u001b[1;32m    228\u001b[0m     \u001b[0mmemo\u001b[0m\u001b[0;34m[\u001b[0m\u001b[0mid\u001b[0m\u001b[0;34m(\u001b[0m\u001b[0mx\u001b[0m\u001b[0;34m)\u001b[0m\u001b[0;34m]\u001b[0m \u001b[0;34m=\u001b[0m \u001b[0my\u001b[0m\u001b[0;34m\u001b[0m\u001b[0;34m\u001b[0m\u001b[0m\n\u001b[1;32m    229\u001b[0m     \u001b[0;32mfor\u001b[0m \u001b[0mkey\u001b[0m\u001b[0;34m,\u001b[0m \u001b[0mvalue\u001b[0m \u001b[0;32min\u001b[0m \u001b[0mx\u001b[0m\u001b[0;34m.\u001b[0m\u001b[0mitems\u001b[0m\u001b[0;34m(\u001b[0m\u001b[0;34m)\u001b[0m\u001b[0;34m:\u001b[0m\u001b[0;34m\u001b[0m\u001b[0;34m\u001b[0m\u001b[0m\n\u001b[0;32m--> 230\u001b[0;31m         \u001b[0my\u001b[0m\u001b[0;34m[\u001b[0m\u001b[0mdeepcopy\u001b[0m\u001b[0;34m(\u001b[0m\u001b[0mkey\u001b[0m\u001b[0;34m,\u001b[0m \u001b[0mmemo\u001b[0m\u001b[0;34m)\u001b[0m\u001b[0;34m]\u001b[0m \u001b[0;34m=\u001b[0m \u001b[0mdeepcopy\u001b[0m\u001b[0;34m(\u001b[0m\u001b[0mvalue\u001b[0m\u001b[0;34m,\u001b[0m \u001b[0mmemo\u001b[0m\u001b[0;34m)\u001b[0m\u001b[0;34m\u001b[0m\u001b[0;34m\u001b[0m\u001b[0m\n\u001b[0m\u001b[1;32m    231\u001b[0m     \u001b[0;32mreturn\u001b[0m \u001b[0my\u001b[0m\u001b[0;34m\u001b[0m\u001b[0;34m\u001b[0m\u001b[0m\n\u001b[1;32m    232\u001b[0m \u001b[0md\u001b[0m\u001b[0;34m[\u001b[0m\u001b[0mdict\u001b[0m\u001b[0;34m]\u001b[0m \u001b[0;34m=\u001b[0m \u001b[0m_deepcopy_dict\u001b[0m\u001b[0;34m\u001b[0m\u001b[0;34m\u001b[0m\u001b[0m\n",
      "\u001b[0;32m~/.pyenv/versions/3.8.3/lib/python3.8/copy.py\u001b[0m in \u001b[0;36mdeepcopy\u001b[0;34m(x, memo, _nil)\u001b[0m\n\u001b[1;32m    144\u001b[0m     \u001b[0mcopier\u001b[0m \u001b[0;34m=\u001b[0m \u001b[0m_deepcopy_dispatch\u001b[0m\u001b[0;34m.\u001b[0m\u001b[0mget\u001b[0m\u001b[0;34m(\u001b[0m\u001b[0mcls\u001b[0m\u001b[0;34m)\u001b[0m\u001b[0;34m\u001b[0m\u001b[0;34m\u001b[0m\u001b[0m\n\u001b[1;32m    145\u001b[0m     \u001b[0;32mif\u001b[0m \u001b[0mcopier\u001b[0m \u001b[0;32mis\u001b[0m \u001b[0;32mnot\u001b[0m \u001b[0;32mNone\u001b[0m\u001b[0;34m:\u001b[0m\u001b[0;34m\u001b[0m\u001b[0;34m\u001b[0m\u001b[0m\n\u001b[0;32m--> 146\u001b[0;31m         \u001b[0my\u001b[0m \u001b[0;34m=\u001b[0m \u001b[0mcopier\u001b[0m\u001b[0;34m(\u001b[0m\u001b[0mx\u001b[0m\u001b[0;34m,\u001b[0m \u001b[0mmemo\u001b[0m\u001b[0;34m)\u001b[0m\u001b[0;34m\u001b[0m\u001b[0;34m\u001b[0m\u001b[0m\n\u001b[0m\u001b[1;32m    147\u001b[0m     \u001b[0;32melse\u001b[0m\u001b[0;34m:\u001b[0m\u001b[0;34m\u001b[0m\u001b[0;34m\u001b[0m\u001b[0m\n\u001b[1;32m    148\u001b[0m         \u001b[0;32mif\u001b[0m \u001b[0missubclass\u001b[0m\u001b[0;34m(\u001b[0m\u001b[0mcls\u001b[0m\u001b[0;34m,\u001b[0m \u001b[0mtype\u001b[0m\u001b[0;34m)\u001b[0m\u001b[0;34m:\u001b[0m\u001b[0;34m\u001b[0m\u001b[0;34m\u001b[0m\u001b[0m\n",
      "\u001b[0;32m~/.pyenv/versions/3.8.3/lib/python3.8/copy.py\u001b[0m in \u001b[0;36m_deepcopy_dict\u001b[0;34m(x, memo, deepcopy)\u001b[0m\n\u001b[1;32m    227\u001b[0m     \u001b[0my\u001b[0m \u001b[0;34m=\u001b[0m \u001b[0;34m{\u001b[0m\u001b[0;34m}\u001b[0m\u001b[0;34m\u001b[0m\u001b[0;34m\u001b[0m\u001b[0m\n\u001b[1;32m    228\u001b[0m     \u001b[0mmemo\u001b[0m\u001b[0;34m[\u001b[0m\u001b[0mid\u001b[0m\u001b[0;34m(\u001b[0m\u001b[0mx\u001b[0m\u001b[0;34m)\u001b[0m\u001b[0;34m]\u001b[0m \u001b[0;34m=\u001b[0m \u001b[0my\u001b[0m\u001b[0;34m\u001b[0m\u001b[0;34m\u001b[0m\u001b[0m\n\u001b[0;32m--> 229\u001b[0;31m     \u001b[0;32mfor\u001b[0m \u001b[0mkey\u001b[0m\u001b[0;34m,\u001b[0m \u001b[0mvalue\u001b[0m \u001b[0;32min\u001b[0m \u001b[0mx\u001b[0m\u001b[0;34m.\u001b[0m\u001b[0mitems\u001b[0m\u001b[0;34m(\u001b[0m\u001b[0;34m)\u001b[0m\u001b[0;34m:\u001b[0m\u001b[0;34m\u001b[0m\u001b[0;34m\u001b[0m\u001b[0m\n\u001b[0m\u001b[1;32m    230\u001b[0m         \u001b[0my\u001b[0m\u001b[0;34m[\u001b[0m\u001b[0mdeepcopy\u001b[0m\u001b[0;34m(\u001b[0m\u001b[0mkey\u001b[0m\u001b[0;34m,\u001b[0m \u001b[0mmemo\u001b[0m\u001b[0;34m)\u001b[0m\u001b[0;34m]\u001b[0m \u001b[0;34m=\u001b[0m \u001b[0mdeepcopy\u001b[0m\u001b[0;34m(\u001b[0m\u001b[0mvalue\u001b[0m\u001b[0;34m,\u001b[0m \u001b[0mmemo\u001b[0m\u001b[0;34m)\u001b[0m\u001b[0;34m\u001b[0m\u001b[0;34m\u001b[0m\u001b[0m\n\u001b[1;32m    231\u001b[0m     \u001b[0;32mreturn\u001b[0m \u001b[0my\u001b[0m\u001b[0;34m\u001b[0m\u001b[0;34m\u001b[0m\u001b[0m\n",
      "\u001b[0;31mKeyboardInterrupt\u001b[0m: "
     ]
    }
   ],
   "source": [
    "# configure the Composite\n",
    "config = {}\n",
    "composite = BioscrapeCOBRA(config)\n",
    "\n",
    "# get initial state\n",
    "initial_state = composite.initial_state()\n",
    "## override FBA default external state\n",
    "initial_state['external']['glc__D_e'] = 10\n",
    "initial_state['external']['lcts_e'] = 10\n",
    "\n",
    "# simulate\n",
    "settings = {\n",
    "    'initial_state': initial_state,\n",
    "    'total_time': 2000}\n",
    "bioscrape_cobra_output = simulate_compartment_in_experiment(\n",
    "    composite, \n",
    "    settings)\n"
   ]
  },
  {
   "cell_type": "code",
   "execution_count": null,
   "metadata": {},
   "outputs": [],
   "source": [
    "fig = plot_simulation_output(\n",
    "        bioscrape_cobra_output)"
   ]
  },
  {
   "cell_type": "code",
   "execution_count": null,
   "metadata": {},
   "outputs": [],
   "source": [
    "fig = plot_topology(composite)"
   ]
  },
  {
   "cell_type": "code",
   "execution_count": null,
   "metadata": {},
   "outputs": [],
   "source": [
    "total_time = 800\n",
    "\n",
    "agent_id = '1'\n",
    "divide_config = {\n",
    "    'divide_on': True,\n",
    "    'agent_id': agent_id,\n",
    "    'agents_path': ('..', '..', 'agents',),\n",
    "}\n",
    "division_composite = BioscrapeCOBRA(divide_config)\n",
    "\n",
    "# initial state\n",
    "initial_state = division_composite.initial_state()\n",
    "initial_state['species']['Glucose_external'] = 2000\n",
    "initial_state['external']['glc__D_e'] = 10\n",
    "initial_state['external']['lcts_e'] = 10\n",
    "initial_state = {\n",
    "        'agents': {\n",
    "            agent_id: initial_state}}\n",
    "\n",
    "# run simulation\n",
    "# simulate\n",
    "settings = {\n",
    "    'outer_path': ('agents', agent_id,),\n",
    "    'initial_state': initial_state,\n",
    "    'experiment_id': 'division'}\n",
    "division_experiment = compartment_in_experiment(\n",
    "    division_composite,\n",
    "    settings=settings,\n",
    "    initial_state=initial_state)\n",
    "\n",
    "division_experiment.update(total_time)\n",
    "division_output = division_experiment.emitter.get_data_unitless()\n"
   ]
  },
  {
   "cell_type": "code",
   "execution_count": null,
   "metadata": {},
   "outputs": [],
   "source": [
    "plot_settings = {\n",
    "    'skip_paths': [('external',)]\n",
    "#     'include_paths': [\n",
    "#         ('globals', 'mass'),\n",
    "#         ('species', 'Glucose_external'),\n",
    "#         ('internal_counts', 'zn2_c'),\n",
    "#         ('flux_bounds', 'EX_glc__D_e'),\n",
    "#         ('flux_bounds', 'EX_lac__D_e'),\n",
    "#         ],\n",
    "}\n",
    "fig = plot_agents_multigen(\n",
    "    division_output,\n",
    "    settings=plot_settings,\n",
    ")"
   ]
  },
  {
   "cell_type": "markdown",
   "metadata": {
    "id": "32llZGSsFL8N"
   },
   "source": [
    "# Simulate BioscrapeCOBRA in a Spatial Environment with pymunk\n",
    " * We here plug BioscrapeCOBRA into an environmental composite called Lattice, which has a multi-body physics process (MBP) and a spatial diffusion process (DFF)."
   ]
  }
 ],
 "metadata": {
  "celltoolbar": "Slideshow",
  "colab": {
   "collapsed_sections": [],
   "name": "bioscrape-cobra.ipynb",
   "provenance": [],
   "toc_visible": true
  },
  "kernelspec": {
   "display_name": "Python 3",
   "language": "python",
   "name": "python3"
  },
  "language_info": {
   "codemirror_mode": {
    "name": "ipython",
    "version": 3
   },
   "file_extension": ".py",
   "mimetype": "text/x-python",
   "name": "python",
   "nbconvert_exporter": "python",
   "pygments_lexer": "ipython3",
   "version": "3.8.3"
  }
 },
 "nbformat": 4,
 "nbformat_minor": 1
}
