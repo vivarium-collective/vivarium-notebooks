{
 "cells": [
  {
   "cell_type": "markdown",
   "metadata": {
    "id": "NQT2_XI-uyAL"
   },
   "source": [
    "# CRN/FBA composite with Vivarium\n",
    "\n",
    "## Overview\n",
    "This notebook combines a chemical reaction network model with a flux balance analysis model, and a physics enging"
   ]
  },
  {
   "cell_type": "code",
   "execution_count": 1,
   "metadata": {
    "executionInfo": {
     "elapsed": 11219,
     "status": "ok",
     "timestamp": 1611076563161,
     "user": {
      "displayName": "William Poole",
      "photoUrl": "",
      "userId": "07207170381362889504"
     },
     "user_tz": 480
    },
    "id": "VkyPQ-ACuqmR"
   },
   "outputs": [],
   "source": [
    "#@title install vivarium libraries\n",
    "\n",
    "#Uncomment in Colab Below\n",
    "\n",
    "\"\"\"\n",
    "%%capture\n",
    "!pip install git+https://github.com/vivarium-collective/vivarium-notebooks\n",
    "!pip install vivarium-core==0.1.5\n",
    "!pip install vivarium-cobra==0.0.6\n",
    "!pip install vivarium-pymunk==0.0.2\n",
    "!pip install vivarium-bioscrape\n",
    "\"\"\""
   ]
  },
  {
   "cell_type": "code",
   "execution_count": 2,
   "metadata": {
    "executionInfo": {
     "elapsed": 13240,
     "status": "ok",
     "timestamp": 1611076565188,
     "user": {
      "displayName": "William Poole",
      "photoUrl": "",
      "userId": "07207170381362889504"
     },
     "user_tz": 480
    },
    "id": "zH0CHGrmFL74"
   },
   "outputs": [],
   "source": [
    "#@title imports\n",
    "import numpy as np\n",
    "import pylab as plt\n",
    "\n",
    "from vivarium_cobra.processes.dynamic_fba import (\n",
    "    DynamicFBA, get_iAF1260b_config, print_growth)\n",
    "from vivarium_bioscrape.processes.bioscrape import (\n",
    "    Bioscrape\n",
    ")\n",
    "\n",
    "# process/composition interface\n",
    "from vivarium.core.process import (\n",
    "    Process, Deriver, Composite,\n",
    ")\n",
    "\n",
    "# helper functions for composition\n",
    "from vivarium.core.composition import (\n",
    "    simulate_process_in_experiment,\n",
    "    simulate_compartment_in_experiment,\n",
    "    compartment_in_experiment,\n",
    "    compose_experiment,\n",
    "    FACTORY_KEY,\n",
    ")\n",
    "\n",
    "# other vivarium imports\n",
    "from vivarium.core.experiment import Experiment, pp\n",
    "from vivarium.library.units import units\n",
    "\n",
    "# vivarium plotting functions\n",
    "from vivarium.plots.simulation_output import plot_simulation_output\n",
    "from vivarium.plots.agents_multigen import plot_agents_multigen\n",
    "from vivarium.plots.topology import plot_compartment_topology"
   ]
  },
  {
   "cell_type": "code",
   "execution_count": 3,
   "metadata": {
    "colab": {
     "base_uri": "https://localhost:8080/"
    },
    "executionInfo": {
     "elapsed": 13237,
     "status": "ok",
     "timestamp": 1611076565189,
     "user": {
      "displayName": "William Poole",
      "photoUrl": "",
      "userId": "07207170381362889504"
     },
     "user_tz": 480
    },
    "id": "V0qkpA1sEsVt",
    "outputId": "cb6400b6-bf4f-4e15-b30c-742963e94255"
   },
   "outputs": [
    {
     "name": "stdout",
     "output_type": "stream",
     "text": [
      "{'model_path': 'C:\\\\ProgramData\\\\Anaconda3\\\\lib\\\\site-packages\\\\vivarium_cobra\\\\bigg_models\\\\iAF1260b.json'}\n"
     ]
    }
   ],
   "source": [
    "config =get_iAF1260b_config()\n",
    "print(config)"
   ]
  },
  {
   "cell_type": "markdown",
   "metadata": {
    "id": "8FZg-ikaFL8E"
   },
   "source": [
    "# Flux Balance Analysis with COBRA\n",
    "\n",
    " * This process is a wrapper for the popular FBA solver [COBRA](https://cobrapy.readthedocs.io/en/latest/).\n",
    " * Metabolism is initialized with a [BiGG metabolic model](http://bigg.ucsd.edu) called *iAF1260b*, which has 2382 reactions, 1261 genes, and 166 metabolites."
   ]
  },
  {
   "cell_type": "code",
   "execution_count": 4,
   "metadata": {
    "executionInfo": {
     "elapsed": 13234,
     "status": "ok",
     "timestamp": 1611076565190,
     "user": {
      "displayName": "William Poole",
      "photoUrl": "",
      "userId": "07207170381362889504"
     },
     "user_tz": 480
    },
    "id": "nc-TZpm6FL8E"
   },
   "outputs": [],
   "source": [
    "# plotting function for metabolism output\n",
    "def plot_metabolism(data, ncol=2):\n",
    "    original_fontsize = plt.rcParams['font.size']\n",
    "    plt.rcParams.update({'font.size': 9})\n",
    "    \n",
    "    # initialize subplots\n",
    "    n_rows = 2\n",
    "    n_cols = 2\n",
    "    fig = plt.figure(figsize=(n_cols * 7, n_rows * 3))\n",
    "    grid = plt.GridSpec(n_rows, n_cols)\n",
    "    \n",
    "    time_vec = data['time']\n",
    "    \n",
    "    # mass\n",
    "    ax = fig.add_subplot(grid[0, 0])  \n",
    "    ax.plot(time_vec, data['global'][('mass', 'femtogram')], label = 'mass')\n",
    "    ax.set_title('total compartment mass (fg)')\n",
    "    ax.set_xlabel('time (sec)')\n",
    "#     ax.legend(loc='center left', bbox_to_anchor=(1.0, 0.5), ncol=ncol)\n",
    "    \n",
    "    # external\n",
    "    ax = fig.add_subplot(grid[0, 1])  \n",
    "    for mol_id, series in data['external'].items():\n",
    "        if sum(series) != 0.0:\n",
    "            ax.plot(time_vec, series, label = mol_id)\n",
    "    ax.set_title('external concentrations (log)')\n",
    "    ax.set_yscale('log')\n",
    "    ax.legend(loc='center left', bbox_to_anchor=(1.0, 0.5), ncol=ncol)\n",
    "    \n",
    "    # internal\n",
    "    ax = fig.add_subplot(grid[1, 1])  \n",
    "    for mol_id, series in data['internal_counts'].items():\n",
    "        if sum(series) != 0.0:\n",
    "            ax.plot(time_vec, series, label = mol_id)\n",
    "    ax.set_title('internal molecule counts (log)')\n",
    "    ax.set_xlabel('time (sec)')\n",
    "    ax.set_yscale('log')\n",
    "    fig.tight_layout()\n",
    "    plt.rcParams.update({'font.size': original_fontsize})"
   ]
  },
  {
   "cell_type": "code",
   "execution_count": null,
   "metadata": {
    "colab": {
     "base_uri": "https://localhost:8080/"
    },
    "executionInfo": {
     "elapsed": 53103,
     "status": "ok",
     "timestamp": 1611076605062,
     "user": {
      "displayName": "William Poole",
      "photoUrl": "",
      "userId": "07207170381362889504"
     },
     "user_tz": 480
    },
    "id": "zBZdI6F7FL8F",
    "outputId": "85bf3675-45a1-4d0f-c6ba-f33080d816a8"
   },
   "outputs": [
    {
     "name": "stdout",
     "output_type": "stream",
     "text": [
      "\n",
      "Experiment ID: d5678634-5a8d-11eb-9c40-6c2b5976b3a5\n",
      "Created: 01/19/2021 at 11:37:58\n"
     ]
    }
   ],
   "source": [
    "# get the configuration for the iAF1260b BiGG model\n",
    "config = get_iAF1260b_config()   \n",
    "\n",
    "# load it into DynamicFBA\n",
    "metabolism = DynamicFBA(config)\n",
    "\n",
    "# get the model's initial state\n",
    "initial_state = metabolism.initial_state({}) \n",
    "\n",
    "# run simulation\n",
    "sim_settings = {\n",
    "    'initial_state': initial_state,\n",
    "    'total_time': 2500}\n",
    "cobra_timeseries = simulate_process_in_experiment(metabolism, sim_settings)"
   ]
  },
  {
   "cell_type": "code",
   "execution_count": null,
   "metadata": {
    "colab": {
     "base_uri": "https://localhost:8080/",
     "height": 477
    },
    "executionInfo": {
     "elapsed": 54908,
     "status": "ok",
     "timestamp": 1611076606871,
     "user": {
      "displayName": "William Poole",
      "photoUrl": "",
      "userId": "07207170381362889504"
     },
     "user_tz": 480
    },
    "id": "coGEbGv7FL8G",
    "outputId": "bdd18e73-d7bd-4ed6-e1a3-2e04a7b9e49c"
   },
   "outputs": [],
   "source": [
    "print_growth(cobra_timeseries['global'])\n",
    "plot_metabolism(cobra_timeseries)"
   ]
  },
  {
   "cell_type": "code",
   "execution_count": null,
   "metadata": {
    "colab": {
     "base_uri": "https://localhost:8080/",
     "height": 39,
     "resources": {
      "http://localhost:8080/nbextensions/google.colab/files.js": {
       "data": "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",
       "headers": [
        [
         "content-type",
         "application/javascript"
        ]
       ],
       "ok": true,
       "status": 200,
       "status_text": ""
      }
     }
    },
    "id": "py3xlXYlFL8H",
    "outputId": "08e0221a-9d4f-4bd1-f913-004a6325f620"
   },
   "outputs": [],
   "source": [
    "from google.colab import files\n",
    "\n",
    "uploaded = files.upload()\n",
    "\n",
    "for fn in uploaded.keys():\n",
    "  print('User uploaded file \"{name}\" with length {length} bytes'.format(\n",
    "      name=fn, length=len(uploaded[fn])))"
   ]
  },
  {
   "cell_type": "markdown",
   "metadata": {
    "id": "h7WS_wIhFL8H"
   },
   "source": [
    "# Chemical Reaction Network with SBML "
   ]
  },
  {
   "cell_type": "code",
   "execution_count": null,
   "metadata": {
    "colab": {
     "base_uri": "https://localhost:8080/",
     "height": 404
    },
    "executionInfo": {
     "elapsed": 54908,
     "status": "error",
     "timestamp": 1611076606880,
     "user": {
      "displayName": "William Poole",
      "photoUrl": "",
      "userId": "07207170381362889504"
     },
     "user_tz": 480
    },
    "id": "u_fcOodvFL8I",
    "outputId": "8dc07e5f-666f-49f9-99d2-6d83f9fb1eed"
   },
   "outputs": [],
   "source": [
    "time_step = 1\n",
    "total_time = 2500\n",
    "\n",
    "# initialize Bioscrape process\n",
    "bioscrape_config = {\n",
    "    'sbml_file': 'LacOperon_simple.xml',\n",
    "    'time_step': time_step}\n",
    "bioscrape_process = Bioscrape(bioscrape_config)\n",
    "\n",
    "# initial state\n",
    "initial_state = bioscrape_process.initial_state()\n",
    "\n",
    "# run simulation\n",
    "settings = {\n",
    "    'total_time': total_time,\n",
    "    'initial_state': initial_state,\n",
    "    'display_info': False,\n",
    "    'progress_bar': False}\n",
    "bioscrape_timeseries = simulate_process_in_experiment(bioscrape_process, settings)"
   ]
  },
  {
   "cell_type": "code",
   "execution_count": null,
   "metadata": {
    "executionInfo": {
     "elapsed": 54895,
     "status": "aborted",
     "timestamp": 1611076606872,
     "user": {
      "displayName": "William Poole",
      "photoUrl": "",
      "userId": "07207170381362889504"
     },
     "user_tz": 480
    },
    "id": "ePse9RLCFL8I"
   },
   "outputs": [],
   "source": [
    "plot_simulation_output(bioscrape_timeseries)"
   ]
  },
  {
   "cell_type": "markdown",
   "metadata": {
    "id": "JShOy66_yZLE"
   },
   "source": [
    "# Multibody physics with pymunk"
   ]
  },
  {
   "cell_type": "code",
   "execution_count": null,
   "metadata": {
    "executionInfo": {
     "elapsed": 54892,
     "status": "aborted",
     "timestamp": 1611076606873,
     "user": {
      "displayName": "William Poole",
      "photoUrl": "",
      "userId": "07207170381362889504"
     },
     "user_tz": 480
    },
    "id": "Fb9-RNexI-Yb"
   },
   "outputs": [],
   "source": [
    "from vivarium_pymunk.processes.multibody_physics import Multibody\n",
    "\n",
    "# TODO -- minimal Growth/Division example here"
   ]
  },
  {
   "cell_type": "markdown",
   "metadata": {
    "id": "UyuE0SCEFL8J"
   },
   "source": [
    "# CRN/FBA Composite\n",
    "\n",
    "This also includes FluxDeriver and imported division processes"
   ]
  },
  {
   "cell_type": "code",
   "execution_count": null,
   "metadata": {
    "executionInfo": {
     "elapsed": 54889,
     "status": "aborted",
     "timestamp": 1611076606873,
     "user": {
      "displayName": "William Poole",
      "photoUrl": "",
      "userId": "07207170381362889504"
     },
     "user_tz": 480
    },
    "id": "rFp-KnZiFL8J"
   },
   "outputs": [],
   "source": [
    "def get_metabolism_config(\n",
    "    volume=1e-5*units.L,\n",
    "):\n",
    "    config = get_iAF1260b_config()\n",
    "    config.update({\n",
    "        'bin_volume': volume})\n",
    "    return config"
   ]
  },
  {
   "cell_type": "code",
   "execution_count": null,
   "metadata": {
    "executionInfo": {
     "elapsed": 54888,
     "status": "aborted",
     "timestamp": 1611076606874,
     "user": {
      "displayName": "William Poole",
      "photoUrl": "",
      "userId": "07207170381362889504"
     },
     "user_tz": 480
    },
    "id": "cYiVe25UYYE8"
   },
   "outputs": [],
   "source": [
    "class FluxDeriver(Deriver):\n",
    "    defaults = {'time_step': 1}\n",
    "\n",
    "    def initial_state(self, config=None):\n",
    "        return {}\n",
    "\n",
    "    def ports_schema(self):\n",
    "        return {\n",
    "            'deltas': {\n",
    "                '*': {'_default': 0.0}},\n",
    "            'fluxes': {\n",
    "                '*': {'_default': 0.0}}}\n",
    "                \n",
    "    def next_update(self, timestep, states):\n",
    "        deltas = states['deltas']\n",
    "        return {\n",
    "            'fluxes': {\n",
    "                reaction_id: delta/self.parameters['time_step']\n",
    "                for reaction_id, delta in deltas.items()}}"
   ]
  },
  {
   "cell_type": "code",
   "execution_count": null,
   "metadata": {
    "executionInfo": {
     "elapsed": 54885,
     "status": "aborted",
     "timestamp": 1611076606874,
     "user": {
      "displayName": "William Poole",
      "photoUrl": "",
      "userId": "07207170381362889504"
     },
     "user_tz": 480
    },
    "id": "4SoT9UsTFL8K"
   },
   "outputs": [],
   "source": [
    "from vivarium.processes.divide_condition import DivideCondition\n",
    "from vivarium.processes.meta_division import MetaDivision\n",
    "    \n",
    "class CRN_COBRA(Generator):\n",
    "    name = 'crn_cobra'\n",
    "    defaults = {\n",
    "        'agent_id': np.random.randint(0, 100),\n",
    "        'crn': {\n",
    "            'sbml_file': '../paper/LacOperon_simple.xml',\n",
    "        },\n",
    "        'cobra': get_metabolism_config(),\n",
    "        'divide_condition': {\n",
    "            'threshold': 2000 * units.fg\n",
    "        },\n",
    "        'agents_path': ('..', '..', 'agents',),\n",
    "        'daughter_path': tuple(),\n",
    "        '_schema': {\n",
    "            'cobra': {\n",
    "                'flux_bounds': {\n",
    "                    '*': {\n",
    "                        '_emit': True\n",
    "                    }\n",
    "                }\n",
    "            }\n",
    "        }\n",
    "    }\n",
    "\n",
    "    def generate_processes(self, config):\n",
    "        # TODO -- reaction names from CRN needs to be matched with COBRA\n",
    "\n",
    "        processes = {\n",
    "            'crn': Bioscrape(config['crn']),\n",
    "            'cobra': DynamicFBA(config['cobra'])}\n",
    "\n",
    "        # configure derivers\n",
    "        flux_config = {\n",
    "            'time_step': processes['crn'].local_timestep()}\n",
    "        division_config = dict(\n",
    "            daughter_path=config['daughter_path'],\n",
    "            agent_id=config['agent_id'],\n",
    "            compartment=self)\n",
    "\n",
    "        derivers = {\n",
    "            'flux_deriver': FluxDeriver(flux_config),\n",
    "            #             'divide_condition': DivideCondition(config['divide_condition']),\n",
    "            #             'globals_deriver': DeriveGlobals({}),\n",
    "            #             'division': MetaDivision(division_config),\n",
    "        }\n",
    "\n",
    "        return {**processes, **derivers}\n",
    "\n",
    "    def generate_topology(self, config):\n",
    "        return {\n",
    "            'crn': {\n",
    "                'species': ('species',),\n",
    "                'delta_species': ('delta_species',),\n",
    "                'rates': ('rates',),\n",
    "                'globals': ('globals',),\n",
    "            },\n",
    "            'cobra': {\n",
    "                'internal_counts': ('internal_counts',),\n",
    "                'external': ('external',),\n",
    "                'exchanges': ('exchanges',),\n",
    "                'reactions': ('reactions',),\n",
    "                'flux_bounds': ('flux_bounds',),\n",
    "                'global': ('global',),\n",
    "            },\n",
    "            'flux_deriver': {\n",
    "                'deltas': ('delta_species',),  # TODO -- need to add units!\n",
    "                'fluxes': ('flux_bounds_2',),\n",
    "            },\n",
    "            #             'globals_deriver': {\n",
    "            #                 'global': ('boundary',)\n",
    "            #             },\n",
    "            #             'divide_condition': {\n",
    "            #                 'variable': ('boundary', 'mass',),\n",
    "            #                 'divide': ('boundary', 'divide',)\n",
    "            #             },\n",
    "            #             'division': {\n",
    "            #                 'global': ('boundary',),\n",
    "            #                 'agents': config['agents_path']\n",
    "            #             }\n",
    "        }"
   ]
  },
  {
   "cell_type": "code",
   "execution_count": null,
   "metadata": {
    "executionInfo": {
     "elapsed": 54883,
     "status": "aborted",
     "timestamp": 1611076606875,
     "user": {
      "displayName": "William Poole",
      "photoUrl": "",
      "userId": "07207170381362889504"
     },
     "user_tz": 480
    },
    "id": "iaYTWCh2FL8K"
   },
   "outputs": [],
   "source": [
    "composite = CRN_COBRA({})\n",
    "fig = plot_compartment_topology(composite)"
   ]
  },
  {
   "cell_type": "code",
   "execution_count": null,
   "metadata": {
    "executionInfo": {
     "elapsed": 54880,
     "status": "aborted",
     "timestamp": 1611076606875,
     "user": {
      "displayName": "William Poole",
      "photoUrl": "",
      "userId": "07207170381362889504"
     },
     "user_tz": 480
    },
    "id": "PtxZwbUvFL8L"
   },
   "outputs": [],
   "source": [
    "# plotting function for metabolism output\n",
    "def plot_composite(data, ncol=2):\n",
    "    original_fontsize = plt.rcParams['font.size']\n",
    "    plt.rcParams.update({'font.size': 9})\n",
    "    \n",
    "    # initialize subplots\n",
    "    n_rows = 2\n",
    "    n_cols = 2\n",
    "    fig = plt.figure(figsize=(n_cols * 7, n_rows * 3))\n",
    "    grid = plt.GridSpec(n_rows, n_cols)\n",
    "    \n",
    "    time_vec = data['time']\n",
    "    \n",
    "    # mass\n",
    "    ax = fig.add_subplot(grid[0, 0])  \n",
    "    ax.plot(time_vec, data['agents']['1']['global'][('mass', 'femtogram')], label = 'mass')\n",
    "    ax.set_title('total compartment mass (fg)')\n",
    "    ax.set_xlabel('time (sec)')\n",
    "    ax.legend(loc='center left', bbox_to_anchor=(1.0, 0.5), ncol=ncol)\n",
    "    \n",
    "    # external\n",
    "    ax = fig.add_subplot(grid[0, 1])  \n",
    "    for mol_id, series in data['agents']['1']['external'].items():\n",
    "        if sum(series) != 0.0:\n",
    "            ax.plot(time_vec, series, label = mol_id)\n",
    "    ax.set_title('external concentrations (log)')\n",
    "    ax.set_yscale('log')\n",
    "    ax.legend(loc='center left', bbox_to_anchor=(1.0, 0.5), ncol=ncol)\n",
    "    \n",
    "    # internal\n",
    "    ax = fig.add_subplot(grid[1, 1])  \n",
    "    for mol_id, series in data['agents']['1']['internal_counts'].items():\n",
    "        if sum(series) != 0.0:\n",
    "            ax.plot(time_vec, series, label = mol_id)\n",
    "    ax.set_title('internal molecule counts (log)')\n",
    "    ax.set_xlabel('time (sec)')\n",
    "    ax.set_yscale('log')\n",
    "    \n",
    "    # layout\n",
    "    fig.tight_layout()\n",
    "    plt.rcParams.update({'font.size': original_fontsize})"
   ]
  },
  {
   "cell_type": "markdown",
   "metadata": {
    "id": "Xnembw-TY0Gw"
   },
   "source": [
    "## simulate CRN/FBA composite"
   ]
  },
  {
   "cell_type": "code",
   "execution_count": null,
   "metadata": {
    "executionInfo": {
     "elapsed": 54877,
     "status": "aborted",
     "timestamp": 1611076606875,
     "user": {
      "displayName": "William Poole",
      "photoUrl": "",
      "userId": "07207170381362889504"
     },
     "user_tz": 480
    },
    "id": "AHMm21REFL8M"
   },
   "outputs": [],
   "source": [
    "agent_id = '1'\n",
    "time_step = 10\n",
    "total_time = 2000\n",
    "volume=1e-5 * units.L\n",
    "\n",
    "# initialize composite\n",
    "cobra_config = get_iAF1260b_config()\n",
    "cobra_config.update({\n",
    "    'time_step': time_step,\n",
    "    'bin_volume': volume})\n",
    "crn_config = {'time_step': time_step}\n",
    "\n",
    "composite_config = {\n",
    "    'agent_id': agent_id,\n",
    "    'crn': crn_config,\n",
    "    'cobra': cobra_config}\n",
    "\n",
    "composite = CRN_COBRA(composite_config)\n",
    "\n",
    "# get initial state\n",
    "initial_state = {\n",
    "    'agents': {\n",
    "        '1': composite.initial_state()}}\n",
    "\n",
    "# make the experiment\n",
    "sim_settings = {\n",
    "    'initial_state': initial_state,\n",
    "    'outer_path': ('agents', agent_id,)}\n",
    "composite_experiment = compartment_in_experiment(composite, sim_settings)\n",
    "\n",
    "# run simulation\n",
    "composite_experiment.update(total_time)"
   ]
  },
  {
   "cell_type": "code",
   "execution_count": null,
   "metadata": {
    "executionInfo": {
     "elapsed": 54875,
     "status": "aborted",
     "timestamp": 1611076606876,
     "user": {
      "displayName": "William Poole",
      "photoUrl": "",
      "userId": "07207170381362889504"
     },
     "user_tz": 480
    },
    "id": "_t6Y3jTAFL8M"
   },
   "outputs": [],
   "source": [
    "# retrieve data and plot\n",
    "composite_timeseries = composite_experiment.emitter.get_timeseries()\n",
    "print_growth(composite_timeseries['agents']['1']['global'])\n",
    "plot_composite(composite_timeseries)"
   ]
  },
  {
   "cell_type": "code",
   "execution_count": null,
   "metadata": {
    "executionInfo": {
     "elapsed": 54873,
     "status": "aborted",
     "timestamp": 1611076606876,
     "user": {
      "displayName": "William Poole",
      "photoUrl": "",
      "userId": "07207170381362889504"
     },
     "user_tz": 480
    },
    "id": "5_6Y_gF8FL8N"
   },
   "outputs": [],
   "source": [
    "# plot output\n",
    "plot_settings = {\n",
    "    'remove_flat': True}\n",
    "fig = plot_simulation_output(composite_timeseries, plot_settings)"
   ]
  },
  {
   "cell_type": "code",
   "execution_count": null,
   "metadata": {
    "executionInfo": {
     "elapsed": 54871,
     "status": "aborted",
     "timestamp": 1611076606877,
     "user": {
      "displayName": "William Poole",
      "photoUrl": "",
      "userId": "07207170381362889504"
     },
     "user_tz": 480
    },
    "id": "KeueZWN8FL8N"
   },
   "outputs": [],
   "source": []
  },
  {
   "cell_type": "markdown",
   "metadata": {
    "id": "32llZGSsFL8N"
   },
   "source": [
    "# Simulate CRN/FBA in a Spatial Environment with pymunk\n",
    " * We here plug GrowDivide into a composite called Lattice, which has a multi-body physics process (MBP) and a spatial diffusion process (DFF)."
   ]
  },
  {
   "cell_type": "code",
   "execution_count": null,
   "metadata": {
    "executionInfo": {
     "elapsed": 54868,
     "status": "aborted",
     "timestamp": 1611076606877,
     "user": {
      "displayName": "William Poole",
      "photoUrl": "",
      "userId": "07207170381362889504"
     },
     "user_tz": 480
    },
    "id": "swvhmcarFL8O"
   },
   "outputs": [],
   "source": [
    "# Environment model with multi-body physics engine and discrete concentration diffusion\n",
    "from vivarium_cell.composites.lattice import (\n",
    "    Lattice,\n",
    "    make_lattice_config)\n",
    "\n",
    "# configure the lattice environment\n",
    "lattice_bounds = [15, 15]\n",
    "lattice_config = make_lattice_config(\n",
    "    jitter_force=1e-5,\n",
    "    bounds=lattice_bounds,\n",
    "    n_bins=[10, 10],\n",
    "    time_step=30)\n",
    "\n",
    "# experiment settings to hide info from being plotted\n",
    "experiment_settings = {'progress_bar': False, 'display_info': False}"
   ]
  },
  {
   "cell_type": "code",
   "execution_count": null,
   "metadata": {
    "executionInfo": {
     "elapsed": 54865,
     "status": "aborted",
     "timestamp": 1611076606877,
     "user": {
      "displayName": "William Poole",
      "photoUrl": "",
      "userId": "07207170381362889504"
     },
     "user_tz": 480
    },
    "id": "xIbApa0MFL8O"
   },
   "outputs": [],
   "source": [
    "from vivarium.processes.divide_condition import DivideCondition\n",
    "from vivarium.processes.meta_division import MetaDivision\n",
    "from vivarium_cell.processes.derive_globals import DeriveGlobals\n",
    "\n",
    "class ExponentialGrowth(Process):\n",
    "\n",
    "    name = 'exponential_growth'\n",
    "    defaults = {\n",
    "        'growth_rate': 0.0005,\n",
    "        'growth_noise': 1e-4}\n",
    "    \n",
    "    def __init__(self, parameters=None):\n",
    "        super(ExponentialGrowth, self).__init__(parameters)\n",
    "    \n",
    "    def ports_schema(self):\n",
    "        return {\n",
    "            'port1': {\n",
    "                'mass': {\n",
    "                    '_default': 1000.0 * units.fg,\n",
    "                    '_updater': 'set',\n",
    "                    '_divider': 'split',\n",
    "                    '_emit': True}}}\n",
    "    \n",
    "\n",
    "    def next_update(self, timestep, states):\n",
    "        mass = states['port1']['mass']\n",
    "        new_mass = mass * (\n",
    "            np.exp(self.parameters['growth_rate'] +\n",
    "                   np.random.normal(0,self.parameters['growth_noise'])\n",
    "                  ) * timestep)\n",
    "        return {\n",
    "            'port1': {\n",
    "                'mass': new_mass}}\n",
    "\n",
    "class GrowDivide(Generator):\n",
    "    name = 'grow_divide'\n",
    "    defaults = {\n",
    "        'agent_id': np.random.randint(0,100),\n",
    "        'exponential_growth': {'growth_noise': 1e-3},\n",
    "        'divide_condition': {'threshold': 2000 * units.fg},\n",
    "        'agents_path': ('..', '..', 'agents',),\n",
    "        'daughter_path': tuple()}\n",
    "\n",
    "    def __init__(self, config):\n",
    "        super(GrowDivide, self).__init__(config)\n",
    "    \n",
    "    def generate_processes(self, config):\n",
    "        division_config = dict(\n",
    "            daughter_path=config['daughter_path'], \n",
    "            agent_id=config['agent_id'], \n",
    "            compartment=self)\n",
    "        return {\n",
    "            'exponential_growth': ExponentialGrowth(config['exponential_growth']),\n",
    "            'divide_condition': DivideCondition(config['divide_condition']),\n",
    "            'globals_deriver': DeriveGlobals({}),\n",
    "            'division': MetaDivision(division_config)}\n",
    "\n",
    "    def generate_topology(self, config):\n",
    "        return {\n",
    "            'exponential_growth': {\n",
    "                'port1': ('boundary',)},\n",
    "            'globals_deriver': {\n",
    "                'global': ('boundary',)},\n",
    "            'divide_condition': {\n",
    "                'variable': ('boundary', 'mass',),\n",
    "                'divide': ('boundary', 'divide',)},\n",
    "            'division': {\n",
    "                'global': ('boundary',),\n",
    "                'agents': config['agents_path']}}"
   ]
  },
  {
   "cell_type": "code",
   "execution_count": null,
   "metadata": {
    "executionInfo": {
     "elapsed": 54862,
     "status": "aborted",
     "timestamp": 1611076606878,
     "user": {
      "displayName": "William Poole",
      "photoUrl": "",
      "userId": "07207170381362889504"
     },
     "user_tz": 480
    },
    "id": "QkuNFtEjFL8P"
   },
   "outputs": [],
   "source": [
    "# GrowDivide requires an 'agent_id' for the division process to track agents\n",
    "agent_id = '0'\n",
    "gd_params = {\n",
    "    'agent_id': agent_id,\n",
    "    'growth_rate': {\n",
    "        'growth_rate': 0.001}}\n",
    "\n",
    "initial_state = {\n",
    "    'agents': {\n",
    "        agent_id: {\n",
    "            'mass': 1000 * units.fg}}}\n",
    "\n",
    "gd_sim_settings = {\n",
    "    'initial_state': initial_state,\n",
    "    'outer_path': ('agents', agent_id),\n",
    "    'display_info': False,\n",
    "    'progress_bar': False}\n",
    "\n",
    "gd_plot_settings = {\n",
    "    'column_width': 12,\n",
    "    'include_paths': [\n",
    "        ('boundary', 'mass')]}"
   ]
  },
  {
   "cell_type": "code",
   "execution_count": null,
   "metadata": {
    "executionInfo": {
     "elapsed": 54860,
     "status": "aborted",
     "timestamp": 1611076606878,
     "user": {
      "displayName": "William Poole",
      "photoUrl": "",
      "userId": "07207170381362889504"
     },
     "user_tz": 480
    },
    "id": "MVIt1X0yFL8P"
   },
   "outputs": [],
   "source": [
    "# declare the hierarchy, with a GrowDivide agent within an 'agents' store\n",
    "hierarchy = {\n",
    "    GENERATORS_KEY: {\n",
    "        'type': Lattice,\n",
    "        'config': lattice_config},\n",
    "    'agents': {\n",
    "        agent_id: {\n",
    "            GENERATORS_KEY: {\n",
    "                'type': GrowDivide,\n",
    "                'config': gd_params}}}}\n",
    "\n",
    "# configure experiment with helper function compose_experiment\n",
    "experiment = compose_experiment(\n",
    "    hierarchy=hierarchy, \n",
    "    settings=experiment_settings)\n",
    "\n",
    "# run the experiment\n",
    "experiment.update(800)\n",
    "lattice_output = experiment.emitter.get_data()"
   ]
  },
  {
   "cell_type": "code",
   "execution_count": null,
   "metadata": {
    "executionInfo": {
     "elapsed": 54858,
     "status": "aborted",
     "timestamp": 1611076606879,
     "user": {
      "displayName": "William Poole",
      "photoUrl": "",
      "userId": "07207170381362889504"
     },
     "user_tz": 480
    },
    "id": "B6PwNoCsFL8P"
   },
   "outputs": [],
   "source": [
    "from vivarium_cell.plots.multibody_physics import plot_tags, plot_snapshots\n",
    "\n",
    "# extract data\n",
    "agents = {time: time_data['agents'] for time, time_data in lattice_output.items()}\n",
    "fields = {time: time_data['fields'] for time, time_data in lattice_output.items()}\n",
    "plot_data = {\n",
    "    'agents': agents,\n",
    "    'fields': fields,\n",
    "    'config': {'bounds': lattice_bounds},\n",
    "}\n",
    "plot_config = {\n",
    "    'include_fields': [],\n",
    "    'n_snapshots': 5,\n",
    "    'default_font_size': 36\n",
    "}\n",
    "\n",
    "plot_snapshots(plot_data, plot_config)"
   ]
  },
  {
   "cell_type": "code",
   "execution_count": null,
   "metadata": {
    "executionInfo": {
     "elapsed": 54855,
     "status": "aborted",
     "timestamp": 1611076606879,
     "user": {
      "displayName": "William Poole",
      "photoUrl": "",
      "userId": "07207170381362889504"
     },
     "user_tz": 480
    },
    "id": "rdqeOOqyFL8Q"
   },
   "outputs": [],
   "source": []
  }
 ],
 "metadata": {
  "celltoolbar": "Slideshow",
  "colab": {
   "collapsed_sections": [],
   "name": "bioscrape-cobra.ipynb",
   "provenance": [],
   "toc_visible": true
  },
  "kernelspec": {
   "display_name": "Python 3",
   "language": "python",
   "name": "python3"
  },
  "language_info": {
   "codemirror_mode": {
    "name": "ipython",
    "version": 3
   },
   "file_extension": ".py",
   "mimetype": "text/x-python",
   "name": "python",
   "nbconvert_exporter": "python",
   "pygments_lexer": "ipython3",
   "version": "3.7.4"
  }
 },
 "nbformat": 4,
 "nbformat_minor": 1
}
