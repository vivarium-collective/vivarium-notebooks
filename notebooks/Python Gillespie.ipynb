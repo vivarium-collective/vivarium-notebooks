{
 "cells": [
  {
   "cell_type": "code",
   "execution_count": 1,
   "metadata": {},
   "outputs": [],
   "source": [
    "import numpy as np\n",
    "import pylab as plt\n",
    "\n",
    "#Reaction rates and stochioometrix matrix are hard coded\n",
    "ktx = 1.0\n",
    "kdeg = .1\n",
    "stochiometrix_matrix = np.array([[0, 1], [0, -1]])\n",
    "\n",
    "def Gillespie(X, dT, t0):\n",
    "    print(\"simulating from \", t0, \"to\", t0+dT)\n",
    "    #X: initial condition\n",
    "    #dT: how long to simulate\n",
    "    #t0: simulation start time\n",
    "    \n",
    "    states = [np.array(X)] #List of states for plotting\n",
    "    times = [t0] #list of times for plotting\n",
    "    \n",
    "    t = t0 #Current time\n",
    "    while t < t0 + dT:\n",
    "        #Calculate propensities\n",
    "        propensities = [ktx*X[0], kdeg*X[1]]\n",
    "        prop_sum = sum(propensities)\n",
    "\n",
    "        #Wait time is distributed exponentially\n",
    "        wait_time = np.random.exponential(scale = prop_sum) #Random wait time\n",
    "\n",
    "        #We haven't hit the end of the simulation\n",
    "        if wait_time + t < t0 + dT:\n",
    "            t += wait_time\n",
    "\n",
    "            #Change state\n",
    "            r_rxn = np.random.random() #choose next reaction using this random number\n",
    "            for i in range(len(propensities)):\n",
    "                if r_rxn < propensities[i]/prop_sum:\n",
    "                    #This means propensity i fires\n",
    "                    break\n",
    "            X += stochiometrix_matrix[i]\n",
    "\n",
    "            #For plotting - not needed in Vivarium\n",
    "            times.append(t)\n",
    "            states.append(np.array(X))\n",
    "\n",
    "        else: #We have hit the end of the simulation\n",
    "            #Don't update states\n",
    "            return times, states"
   ]
  },
  {
   "cell_type": "code",
   "execution_count": 3,
   "metadata": {},
   "outputs": [
    {
     "name": "stdout",
     "output_type": "stream",
     "text": [
      "Simulating from  0.0 to 10.0\n",
      "simulating from  0.0 to 10.0\n",
      "Simulating from  10.0 to 20.0\n",
      "simulating from  10.0 to 20.0\n",
      "Simulating from  20.0 to 30.0\n",
      "simulating from  20.0 to 30.0\n",
      "Simulating from  30.0 to 40.0\n",
      "simulating from  30.0 to 40.0\n",
      "Simulating from  40.0 to 50.0\n",
      "simulating from  40.0 to 50.0\n",
      "Simulating from  50.0 to 60.0\n",
      "simulating from  50.0 to 60.0\n",
      "Simulating from  60.0 to 70.0\n",
      "simulating from  60.0 to 70.0\n",
      "Simulating from  70.0 to 80.0\n",
      "simulating from  70.0 to 80.0\n",
      "Simulating from  80.0 to 90.0\n",
      "simulating from  80.0 to 90.0\n",
      "Simulating from  90.0 to 100.0\n",
      "simulating from  90.0 to 100.0\n"
     ]
    },
    {
     "data": {
      "text/plain": [
       "<matplotlib.legend.Legend at 0x11d994bb0>"
      ]
     },
     "execution_count": 3,
     "metadata": {},
     "output_type": "execute_result"
    },
    {
     "data": {
      "image/png": "[encoded data removed]",
      "text/plain": [
       "<Figure size 432x288 with 1 Axes>"
      ]
     },
     "metadata": {
      "needs_background": "light"
     },
     "output_type": "display_data"
    }
   ],
   "source": [
    "#Run gillespie iteratively\n",
    "\n",
    "N_steps = 10\n",
    "dT = 10.0 #Timestep\n",
    "\n",
    "#these keep track of the dynamics every dT\n",
    "coarse_states = [np.array([1, 0])]\n",
    "coarse_times = [0]\n",
    "\n",
    "#These keep track of the internal gillespie dynamics\n",
    "true_states = [coarse_states[0]]\n",
    "true_times = [coarse_times[0]]\n",
    "for i in range(N_steps):\n",
    "    t0 = i*dT\n",
    "    print(\"Simulating from \", t0, \"to\", t0 + dT)\n",
    "    new_times, new_states = Gillespie(coarse_states[-1], dT, t0)\n",
    "    \n",
    "    #coarse dynamics\n",
    "    coarse_states.append(new_states[-1])\n",
    "    coarse_times.append(t0+dT)\n",
    "    \n",
    "    #full internal dynamics\n",
    "    true_states += new_states\n",
    "    true_times += new_times\n",
    "\n",
    "plt.plot(true_times, [s[0] for s in true_states], label = \"G [internal dynamics]\")\n",
    "plt.plot(true_times, [s[1] for s in true_states], label = \"T [internal dyanmics]\")\n",
    "\n",
    "plt.plot(coarse_times, [s[0] for s in coarse_states], \"-.\", label = \"G [coarse dynamics]\")\n",
    "plt.plot(coarse_times, [s[1] for s in coarse_states], \"-.\", label = \"T [coarse dyanmics]\")\n",
    "\n",
    "plt.legend()\n",
    "\n",
    "    "
   ]
  },
  {
   "cell_type": "code",
   "execution_count": null,
   "metadata": {},
   "outputs": [],
   "source": []
  },
  {
   "cell_type": "code",
   "execution_count": null,
   "metadata": {},
   "outputs": [],
   "source": []
  }
 ],
 "metadata": {
  "kernelspec": {
   "display_name": "Python 3",
   "language": "python",
   "name": "python3"
  },
  "language_info": {
   "codemirror_mode": {
    "name": "ipython",
    "version": 3
   },
   "file_extension": ".py",
   "mimetype": "text/x-python",
   "name": "python",
   "nbconvert_exporter": "python",
   "pygments_lexer": "ipython3",
   "version": "3.8.3"
  }
 },
 "nbformat": 4,
 "nbformat_minor": 4
}
