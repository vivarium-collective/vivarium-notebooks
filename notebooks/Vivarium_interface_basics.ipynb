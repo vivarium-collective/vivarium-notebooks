{
 "cells": [
  {
   "cell_type": "markdown",
   "metadata": {
    "id": "qxq5e_3xA4qi"
   },
   "source": [
    "# Vivarium interface basics"
   ]
  },
  {
   "cell_type": "markdown",
   "metadata": {
    "id": "Unz0k3nHdp7y"
   },
   "source": [
    "## Overview\n",
    "This notebook introduces the Vivarium interface protocol by working through a simple, qualitative example of transcription/translation, and iterating on model design to add more complexity.\n",
    "\n",
    "**Note:** The included examples often skirt best coding practice in favor of simplicity. See Vivarium templates on github for better starting examples: https://github.com/vivarium-collective/vivarium-template"
   ]
  },
  {
   "cell_type": "code",
   "execution_count": 1,
   "metadata": {
    "id": "iCrSv0QyO0y3"
   },
   "outputs": [],
   "source": [
    "# # install vivarium libraries\n",
    "# %%capture\n",
    "# !pip install vivarium-core==0.2.7\n"
   ]
  },
  {
   "cell_type": "code",
   "execution_count": 2,
   "metadata": {
    "id": "VCDWQr7HTvtU"
   },
   "outputs": [],
   "source": [
    "# Imports and Notebook Utilities\n",
    "import os\n",
    "import copy\n",
    "import pylab as plt\n",
    "import numpy as np\n",
    "from scipy import constants\n",
    "import matplotlib.pyplot as plt\n",
    "import matplotlib\n",
    "\n",
    "# Process, Deriver, and Composer base classes\n",
    "from vivarium.core.process import (\n",
    "    Process, \n",
    "    Deriver,\n",
    "    Composer)\n",
    "from vivarium.core.registry import process_registry\n",
    "\n",
    "# helper functions for composition\n",
    "from vivarium.core.composition import (\n",
    "    simulate_process,\n",
    "    process_in_experiment,\n",
    "    composer_in_experiment,\n",
    "    composite_in_experiment)\n",
    "\n",
    "# other vivarium imports\n",
    "from vivarium.core.experiment import Experiment, pp\n",
    "from vivarium.library.units import units\n",
    "\n",
    "# plotting functions\n",
    "from vivarium.plots.simulation_output import (\n",
    "    plot_simulation_output, plot_variables, save_fig_to_dir)\n",
    "from vivarium.plots.agents_multigen import plot_agents_multigen\n",
    "from vivarium.plots.topology import plot_topology\n",
    "\n",
    "AVOGADRO = constants.N_A * 1 / units.mol\n",
    "\n",
    "store_cmap = matplotlib.cm.get_cmap('Dark2')\n",
    "dna_color = matplotlib.colors.to_rgba(store_cmap(0))\n",
    "rna_color = matplotlib.colors.to_rgba(store_cmap(1))\n",
    "protein_color = matplotlib.colors.to_rgba(store_cmap(2)) \n",
    "global_color = matplotlib.colors.to_rgba(store_cmap(7))                             \n",
    "store_colors = {\n",
    "    'DNA': dna_color, \n",
    "    'DNA\\n(counts)': dna_color, \n",
    "    'DNA\\n(mg/mL)': dna_color, \n",
    "    'mRNA': rna_color,\n",
    "    'mRNA\\n(counts)': rna_color,\n",
    "    'mRNA\\n(mg/mL)': rna_color,\n",
    "    'Protein': protein_color,\n",
    "    'Protein\\n(mg/mL)': protein_color,\n",
    "    'global': global_color}\n",
    "                       \n",
    "# plotting configurations\n",
    "topology_plot_config = {\n",
    "    'settings': {\n",
    "        'coordinates': {\n",
    "            'Tl': (-1,0),\n",
    "            'Tx': (-1,-1),\n",
    "            'Protein': (1,0),\n",
    "            'mRNA': (1,-1),\n",
    "            'DNA': (1,-2),\n",
    "        },\n",
    "        'node_distance': 3.0,\n",
    "        'process_color': 'k',\n",
    "        'store_colors': store_colors,\n",
    "        'graph_format': 'vertical',\n",
    "        'color_edges': False}, \n",
    "    'out_dir': 'out/'}\n",
    "\n",
    "plot_var_config = {\n",
    "    'row_height': 2,\n",
    "    'row_padding': 0.2,\n",
    "    'column_width': 10,\n",
    "    'out_dir': 'out'}"
   ]
  },
  {
   "cell_type": "markdown",
   "metadata": {
    "id": "MFj0o6GFTvtX"
   },
   "source": [
    "# **1. Make a Process: minimal transcription**\n",
    "\n",
    "Transcription is the biological process by which RNA is synthesized from a DNA template.\n",
    "Here, we define a model with a single mRNA species, $C$, transcribed from a single gene, $G$, at transcription rate $k_{tsc}$.\n",
    "RNA also degrades at rate $k_{deg}$.\n",
    "\n",
    "This can be represented by a chemical reaction network with the form:\n",
    "\n",
    "<br>\n",
    "<center>\n",
    "$Gene_{G} \\xrightarrow[]{k_{tsc}} Gene_{G} + RNA_{C} $ <br><br>\n",
    "$RNA_{C} \\xrightarrow[]{k_{deg}} \\emptyset$\n",
    "</center>\n",
    "\n",
    "Which is written as the difference equation:\n",
    "\n",
    "<br>\n",
    "<center>\n",
    "$\\Delta RNA_{C} = (k_{tsc}[Gene_{G}] - k_{deg}[RNA_{C}]) \\Delta t $ <br>\n",
    "</center>"
   ]
  },
  {
   "cell_type": "markdown",
   "metadata": {
    "id": "H3dF_i57Ensa"
   },
   "source": [
    "## Vivarium's basic elements\n",
    "**Processes** can implement any kind of dynamical model - dynamic flux balance analysis, differential equation, stochastic process, Boolean logic, etc. \\\n",
    "**Stores** are databases of state variables read by the Processes, with methods for applying each Processes' updates.\n",
    "\n",
    "<table><tr>\n",
    "<td> <img src=\"images/process.png\" alt=\"Drawing\" style=\"width: 600;\"/> </td>\n",
    "<td> <img src=\"images/store.png\" alt=\"Drawing\" style=\"width: 600;\"/> </td>\n",
    "</tr></table>"
   ]
  },
  {
   "cell_type": "markdown",
   "metadata": {
    "id": "zsHRSzNgdp71"
   },
   "source": [
    "### Process interface protocol\n",
    "If standard modeling formats are an \"HTML\" for systems biology, we need an \"interface protocol\" such as TCP/IP serves for the internet -- a protocol for connecting separate systems into a complex and open-ended network that anyone can contribute to.\n",
    "\n",
    "Making a dynamical model into a Vivarium Process requires the following protocol:\n",
    "1. A *constructor* that accepts parameters and configures the model.\n",
    "2. A *ports_schema* that declares the ports and their schema.\n",
    "3. A *next_update* that runs the model and returns an update."
   ]
  },
  {
   "cell_type": "markdown",
   "metadata": {
    "id": "CiutdANTdp71"
   },
   "source": [
    "### Constructor\n",
    "* `default` parameters are used in absense of an other provided parameters.\n",
    "* The constructor's `parameters` arguments overrides the `default` parameters.\n",
    "\n",
    "```python\n",
    "class Tx(Process):\n",
    " \n",
    "    defaults = {\n",
    "        'ktsc': 1e-2,\n",
    "        'kdeg': 1e-3}\n",
    "    \n",
    "    def __init__(self, parameters=None):\n",
    "        super().__init__(parameters)\n",
    "```"
   ]
  },
  {
   "cell_type": "markdown",
   "metadata": {
    "id": "8hIw5xRwdp71"
   },
   "source": [
    "### Ports Schema\n",
    "* Ports are the connections by which Process are wired to Stores. \n",
    "* `ports_schema` declares the ports, the variables that go through them, and how those variables operate.\n",
    "* Here, `Tx` declares a port for `mRNA` with variable `C`, and a port for `DNA` with variable `G`.\n",
    "\n",
    "```python\n",
    "def ports_schema(self):\n",
    "    return {\n",
    "        'mRNA': {\n",
    "            'C': {\n",
    "                '_default': 0.0,\n",
    "                '_updater': 'accumulate',\n",
    "                '_divider': 'set',\n",
    "                '_properties': {\n",
    "                    'mw': 111.1 units.g / units.mol}},\n",
    "        'DNA': {  \n",
    "            'G': {\n",
    "                '_default': 1.0}}\n",
    "```"
   ]
  },
  {
   "cell_type": "markdown",
   "metadata": {
    "id": "1lh70S3Qdp72"
   },
   "source": [
    "#### Advanced ports_schema\n",
    "\n",
    "* dictionary comprehensions are useful for declaring schema for configured variables.\n",
    "\n",
    "```python\n",
    "def ports_schema(self):\n",
    "    molecule_schema = {\n",
    "        '_default': 0.0,\n",
    "        '_emit': True}\n",
    "    \n",
    "    return {\n",
    "        'molecules': {\n",
    "            mol_id: molecule_schema \n",
    "            for mol_id in self.parameters['molecules']}}\n",
    "```"
   ]
  },
  {
   "cell_type": "markdown",
   "metadata": {
    "id": "aC25KKl6dp72"
   },
   "source": [
    "#### Advanced ports_schema\n",
    "\n",
    "* Schema methods can also be declared by passing in functions.\n",
    "* The asymmetric_division divider makes molecules in the 'front' go to one daughter cell upon division, and those in the 'back' go to the other daughter.\n",
    "\n",
    "```python\n",
    "def asymmetric_division(value, topology):\n",
    "    if 'front' in topology:\n",
    "        return [value, 0.0]\n",
    "    elif 'back' in topology:\n",
    "        return [0.0, value]\n",
    "\n",
    "def ports_schema(self):\n",
    "    return {\n",
    "        'front': {\n",
    "            'molecule': {\n",
    "                '_divider': {\n",
    "                    'divider': asymmetric_division,\n",
    "                    'topology': {'front': ('molecule',)},\n",
    "                }}},\n",
    "        'back': {\n",
    "            'molecule': {\n",
    "                '_divider': {\n",
    "                    'divider': asymmetric_division,\n",
    "                    'topology': {'back': ('molecule',)},\n",
    "                }}}}\n",
    "```"
   ]
  },
  {
   "cell_type": "markdown",
   "metadata": {
    "id": "T0EFR2bJdp72"
   },
   "source": [
    "### Initial State\n",
    "* Each Process MAY provide an `initial_state` method. This can be retrieved, reconfigured, and passed into a simulation.\n",
    "* If left empty, a simulation initializes at the `'_default'` values.\n",
    "\n",
    "```python\n",
    "def initial_state(self, config):\n",
    "    return {\n",
    "        'DNA': {'G': 1.0},\n",
    "        'mRNA': {'C': 0.0}}\n",
    "```"
   ]
  },
  {
   "cell_type": "markdown",
   "metadata": {
    "id": "VdkK-uVKdp72"
   },
   "source": [
    "### Update Method\n",
    "* **Retrieve** the state variables through the ports.\n",
    "* **Run** the model for the timestep’s duration.\n",
    "* **Return** an update to the state variable through the ports.\n",
    "\n",
    "```python\n",
    "def next_update(self, states, timestep):\n",
    "\n",
    "    # Retrieve\n",
    "    G = states['DNA']['G']\n",
    "    C = states['mRNA']['C']\n",
    "\n",
    "    # Run\n",
    "    dC = (self.ktsc * G - self.kdeg * C) * timestep\n",
    "\n",
    "    # Return\n",
    "    return {\n",
    "        'mRNA': {\n",
    "            'C': dC}}\n",
    "```"
   ]
  },
  {
   "cell_type": "markdown",
   "metadata": {
    "id": "6Pryo_F8dp73"
   },
   "source": [
    "## Tx: a deterministic transcription process\n",
    "\n",
    "According to [BioNumbers](https://bionumbers.hms.harvard.edu/bionumber.aspx?s=n&v=3&id=100043), the concentration of DNA in an *E. coli* cell is on the order of 11-18 mg/mL. The concentration of RNA is 75-120 mg/ml."
   ]
  },
  {
   "cell_type": "code",
   "execution_count": 3,
   "metadata": {
    "id": "A6GBte7aTvtX"
   },
   "outputs": [],
   "source": [
    "class Tx(Process):\n",
    "    \n",
    "    defaults = {\n",
    "        'ktsc': 1e-2,\n",
    "        'kdeg': 1e-3}\n",
    "\n",
    "    def __init__(self, parameters=None):\n",
    "        super().__init__(parameters)\n",
    "        \n",
    "    def ports_schema(self):\n",
    "        return {\n",
    "            'DNA': {  \n",
    "                'G': {\n",
    "                    '_default': 10 * units.mg / units.mL,         \n",
    "                    '_updater': 'accumulate',\n",
    "                    '_emit': True}},\n",
    "            'mRNA': {\n",
    "                'C': {\n",
    "                    '_default': 100 * units.mg / units.mL,\n",
    "                    '_updater': 'accumulate',\n",
    "                    '_emit': True}}}\n",
    "    \n",
    "    def next_update(self, timestep, states):\n",
    "        G = states['DNA']['G']\n",
    "        C = states['mRNA']['C']\n",
    "        dC = (self.parameters['ktsc'] * G - self.parameters['kdeg'] * C) * timestep\n",
    "        return {\n",
    "            'mRNA': {\n",
    "                'C': dC}}"
   ]
  },
  {
   "cell_type": "markdown",
   "metadata": {
    "id": "lwfBUWgudp73"
   },
   "source": [
    "### plot Tx topology"
   ]
  },
  {
   "cell_type": "code",
   "execution_count": 4,
   "metadata": {
    "colab": {
     "base_uri": "https://localhost:8080/",
     "height": 320
    },
    "id": "6QrLrat4I-_c",
    "outputId": "2f9c2b67-263b-4e61-8810-a31fc4371b6b"
   },
   "outputs": [
    {
     "name": "stdout",
     "output_type": "stream",
     "text": [
      "Writing out/tx_topology.pdf\n"
     ]
    },
    {
     "data": {
      "image/png": "[encoded data removed]",
      "text/plain": [
       "<Figure size 504x288 with 1 Axes>"
      ]
     },
     "metadata": {},
     "output_type": "display_data"
    }
   ],
   "source": [
    "fig = plot_topology(Tx(), filename='tx_topology.pdf', **topology_plot_config)\n"
   ]
  },
  {
   "cell_type": "markdown",
   "metadata": {
    "id": "DaNfYWr3dp75"
   },
   "source": [
    "### run Tx"
   ]
  },
  {
   "cell_type": "code",
   "execution_count": 5,
   "metadata": {
    "id": "L0Xej-Rgdp75"
   },
   "outputs": [],
   "source": [
    "# tsc configuration\n",
    "tx_config = {'time_step': 10}\n",
    "tx_sim_settings = {\n",
    "    'experiment_id': 'TX'}\n",
    "tx_initial_state = {\n",
    "    'mRNA': {'C': 0.0 * units.mg/units.mL}}\n",
    "tx_plot_config = {\n",
    "    'variables': [\n",
    "        {\n",
    "            'variable': ('mRNA', ('C', 'milligram / milliliter')),\n",
    "            'color': store_colors['mRNA']\n",
    "        }, \n",
    "        {\n",
    "            'variable': ('DNA', ('G', 'milligram / milliliter')),\n",
    "            'color': store_colors['DNA']\n",
    "        }],\n",
    "    'filename': 'tx_output.pdf',\n",
    "    **plot_var_config}"
   ]
  },
  {
   "cell_type": "code",
   "execution_count": 6,
   "metadata": {
    "colab": {
     "base_uri": "https://localhost:8080/",
     "height": 400
    },
    "id": "ngRy507zTvtY",
    "outputId": "289393f0-001d-4dab-d48f-01a6a04a98f7"
   },
   "outputs": [
    {
     "name": "stdout",
     "output_type": "stream",
     "text": [
      "\n",
      "Experiment ID: TX\n",
      "Created: 03/12/2021 at 10:14:42\n",
      "Completed in 0.207797 seconds\n",
      "Writing out/tx_output.pdf\n"
     ]
    },
    {
     "data": {
      "image/png": "[encoded data removed]",
      "text/plain": [
       "<Figure size 720x288 with 2 Axes>"
      ]
     },
     "metadata": {
      "needs_background": "light"
     },
     "output_type": "display_data"
    }
   ],
   "source": [
    "# initialize\n",
    "tx_process = Tx(tx_config)\n",
    "\n",
    "# make the experiment\n",
    "tx_exp = process_in_experiment(\n",
    "    tx_process, tx_sim_settings, tx_initial_state)\n",
    "\n",
    "# run\n",
    "tx_exp.update(10000)\n",
    "\n",
    "# retrieve the data as a timeseries\n",
    "tx_output = tx_exp.emitter.get_timeseries()\n",
    "\n",
    "# plot\n",
    "fig = plot_variables(tx_output,  **tx_plot_config)"
   ]
  },
  {
   "cell_type": "markdown",
   "metadata": {
    "id": "pF5I5GMwTvta"
   },
   "source": [
    "## Tl: a deterministic translation process\n",
    "\n",
    "Translation is the biological process by which protein is synthesized with an mRNA template.\n",
    "Here, we define a model with a single protein species, $Protein_{X}$, transcribed from a single gene, $RNA_{C}$, at translation rate $k_{trl}$.\n",
    "Protein also degrades at rate $k_{deg}$.\n",
    "\n",
    "This can be represented by a chemical reaction network with the form:\n",
    "* $RNA_{C} \\xrightarrow[]{k_{trl}} RNA_{C} + Protein_{X} $ \n",
    "* $Protein_{X} \\xrightarrow[]{k_{deg}} \\emptyset$\n",
    "\n",
    "According to [BioNumbers](https://bionumbers.hms.harvard.edu/bionumber.aspx?s=n&v=3&id=100043), the concentration of RNA in an *E. coli* cell is on the order of 75-120 mg/ml. The concentration of protein is 200-320 mg/ml.\n"
   ]
  },
  {
   "cell_type": "code",
   "execution_count": 7,
   "metadata": {
    "id": "YIOqUZ6CTvta"
   },
   "outputs": [],
   "source": [
    "class Tl(Process):\n",
    "\n",
    "    defaults = {\n",
    "        'ktrl': 5e-4,\n",
    "        'kdeg': 5e-5}\n",
    "\n",
    "    def ports_schema(self):\n",
    "        return {\n",
    "            'mRNA': {\n",
    "                'C': {\n",
    "                    '_default': 100 * units.mg / units.mL,\n",
    "                    '_divider': 'split',\n",
    "                    '_emit': True}},\n",
    "            'Protein': {\n",
    "                'X': {\n",
    "                    '_default': 200 * units.mg / units.mL,\n",
    "                    '_divider': 'split',\n",
    "                    '_emit': True}}}\n",
    "\n",
    "    def next_update(self, timestep, states):\n",
    "        C = states['mRNA']['C']\n",
    "        X = states['Protein']['X']\n",
    "        dX = (self.parameters['ktrl'] * C - self.parameters['kdeg'] * X) * timestep\n",
    "        return {\n",
    "            'Protein': {\n",
    "                'X': dX}}\n",
    "    "
   ]
  },
  {
   "cell_type": "markdown",
   "metadata": {
    "id": "S0TGUgW-dp76"
   },
   "source": [
    "### run Tl"
   ]
  },
  {
   "cell_type": "code",
   "execution_count": 8,
   "metadata": {
    "id": "NoIOLTSBdp76"
   },
   "outputs": [],
   "source": [
    "# trl configuration\n",
    "tl_config = {'time_step': 10}\n",
    "tl_sim_settings = {'experiment_id': 'TL'}\n",
    "tl_initial_state = {\n",
    "    'Protein': {'X': 0.0 * units.mg / units.mL}}\n",
    "tl_plot_config = {\n",
    "    'variables': [\n",
    "        {\n",
    "            'variable': ('Protein', ('X', 'milligram / milliliter')),\n",
    "            'color': store_colors['Protein']\n",
    "        },\n",
    "        {\n",
    "            'variable': ('mRNA', ('C', 'milligram / milliliter')),\n",
    "            'color': store_colors['mRNA']\n",
    "        },  \n",
    "        ],\n",
    "    'filename': 'tl_output.pdf',\n",
    "    **plot_var_config}"
   ]
  },
  {
   "cell_type": "code",
   "execution_count": 9,
   "metadata": {},
   "outputs": [
    {
     "name": "stdout",
     "output_type": "stream",
     "text": [
      "\n",
      "Experiment ID: TL\n",
      "Created: 03/12/2021 at 10:14:43\n",
      "Completed in 0.208108 seconds\n",
      "Writing out/tl_output.pdf\n"
     ]
    },
    {
     "data": {
      "image/png": "[encoded data removed]",
      "text/plain": [
       "<Figure size 720x288 with 2 Axes>"
      ]
     },
     "metadata": {
      "needs_background": "light"
     },
     "output_type": "display_data"
    }
   ],
   "source": [
    "# initialize\n",
    "tl_process = Tl(tl_config)\n",
    "\n",
    "# make the experiment\n",
    "tl_exp = process_in_experiment(\n",
    "    tl_process, tl_sim_settings, tl_initial_state)\n",
    "\n",
    "# run\n",
    "tl_exp.update(10000)\n",
    "\n",
    "# retrieve the data as a timeseries\n",
    "tl_output = tl_exp.emitter.get_timeseries()\n",
    "\n",
    "# plot\n",
    "fig = plot_variables(tl_output,  **tl_plot_config)"
   ]
  },
  {
   "cell_type": "markdown",
   "metadata": {
    "id": "PGHhhZDpzDBY"
   },
   "source": [
    "# **2. Make a Composite**\n",
    "\n",
    "A **Composite** is a set of Processes and Stores. Vivarium constructs the Stores from the Processes's port_schema methods and wires them up as instructed by a **Topology**. The only communication between Processes is through variables in shared Stores.\n",
    "\n",
    "<center><img src=\"images/composite.png\" width=600/></center>"
   ]
  },
  {
   "cell_type": "markdown",
   "metadata": {
    "id": "7WTasj6aTvtc"
   },
   "source": [
    "## TxTl: a transcription/translation composite\n",
    "\n",
    "We demonstrate composition by combining the `Tx` and `Tl` processes."
   ]
  },
  {
   "cell_type": "markdown",
   "metadata": {
    "id": "ewCJDV68dp78"
   },
   "source": [
    "### Composition protocol\n",
    "\n",
    "Composers, which combine processes into composites are implemented with the protocol:\n",
    "1. A *constructor* that accepts configuration data, which can override the consituent Processes' default parameters.\n",
    "1. A *generate_processes* method that constructs the Processes, passing model parameters as needed.\n",
    "2. A *generate_topology* method that returns the Topology definition which tells Vivarium how to wire up the Processes to Stores."
   ]
  },
  {
   "cell_type": "markdown",
   "metadata": {
    "id": "BAoZmlAYdp78"
   },
   "source": [
    "#### composite constructor\n",
    "\n",
    "```python\n",
    "class TxTl(Composer):\n",
    "    \n",
    "    defaults = {\n",
    "        'Tx': {\n",
    "            'ktsc': 1e-2},\n",
    "        'Tl': {\n",
    "            'ktrl': 1e-3}}\n",
    "    \n",
    "    def __init__(self, config=None):\n",
    "        super().__init__(config)\n",
    "```"
   ]
  },
  {
   "cell_type": "markdown",
   "metadata": {
    "id": "DkSropZrdp78"
   },
   "source": [
    "#### generate topology\n",
    "* Here, `generate_topology()` returns the Topology definition that wires these Processes together with 3 Stores, one of them shared.\n",
    "\n",
    "```python\n",
    "def generate_topology(self, config):\n",
    "    return {\n",
    "        'Tx': {\n",
    "            'DNA': ('DNA',),     # connect TSC's 'DNA' Port to a 'DNA' Store\n",
    "            'mRNA': ('mRNA',)},  # connect TSC's 'mRNA' Port to a 'mRNA' Store\n",
    "        'Tl': {\n",
    "            'mRNA': ('mRNA',),   # connect TRL's 'mRNA' Port to the same 'mRNA' Store\n",
    "            'Protein': ('Protein',)}}\n",
    "```"
   ]
  },
  {
   "cell_type": "markdown",
   "metadata": {
    "id": "OZ3XUmDCdp79"
   },
   "source": [
    "#### advanced generate topology\n",
    "\n",
    "* **embedding in a hierarchy**: to connect to sub-stores in a hierarchy, declare the path through each substore, as done to 'lipids'.\n",
    "    * To connect to supra-stores use `'..'` for each level up, as done to `'external'`.\n",
    "* **splitting ports**: One port can connect to multiple stores by specifying the path for each variable, as is done to `'transport'`.\n",
    "    * This can be used to re-map variable names, for integration of different models.\n",
    "\n",
    "```python\n",
    "def generate_topology(config):\n",
    "    return {\n",
    "        'process_1': {\n",
    "            'lipids': ('organelle', 'membrane', 'lipid'),\n",
    "            'external': ('..', 'environment'),\n",
    "            'transport': {\n",
    "                'glucose_external': ('external', 'glucose'),\n",
    "                'glucose_internal': ('internal', 'glucose'),\n",
    "            }\n",
    "        }}\n",
    "```"
   ]
  },
  {
   "cell_type": "markdown",
   "metadata": {
    "id": "9N81v96qdp79"
   },
   "source": [
    "### TxTl Composer"
   ]
  },
  {
   "cell_type": "code",
   "execution_count": 10,
   "metadata": {
    "id": "Ys80r6_6Tvtc"
   },
   "outputs": [],
   "source": [
    "class TxTl(Composer):\n",
    "    \n",
    "    defaults = {\n",
    "        'Tx': {'time_step': 10},\n",
    "        'Tl': {'time_step': 10}}\n",
    "\n",
    "    def generate_processes(self, config):\n",
    "        return {\n",
    "            'Tx': Tx(config['Tx']),\n",
    "            'Tl': Tl(config['Tl'])}\n",
    "\n",
    "    def generate_topology(self, config):\n",
    "        return {\n",
    "            'Tx': {\n",
    "                'DNA': ('DNA',),\n",
    "                'mRNA': ('mRNA',)},\n",
    "            'Tl': {\n",
    "                'mRNA': ('mRNA',),\n",
    "                'Protein': ('Protein',)}}\n",
    "    "
   ]
  },
  {
   "cell_type": "markdown",
   "metadata": {
    "id": "swhgiKcjdp7-"
   },
   "source": [
    "### plot TxTl topology"
   ]
  },
  {
   "cell_type": "code",
   "execution_count": 11,
   "metadata": {
    "colab": {
     "base_uri": "https://localhost:8080/",
     "height": 456
    },
    "id": "KKhnvhM-07ul",
    "outputId": "74ca850e-aa1e-426a-8e5f-7391aa97c465"
   },
   "outputs": [
    {
     "name": "stdout",
     "output_type": "stream",
     "text": [
      "Writing out/txtl_topology.pdf\n"
     ]
    },
    {
     "data": {
      "image/png": "[encoded data removed]",
      "text/plain": [
       "<Figure size 504x504 with 1 Axes>"
      ]
     },
     "metadata": {},
     "output_type": "display_data"
    }
   ],
   "source": [
    "txtl_topology_plot_config = copy.deepcopy(topology_plot_config)\n",
    "txtl_topology_plot_config['settings']['node_distance'] = 2\n",
    "fig = plot_topology(TxTl(), filename='txtl_topology.pdf', **topology_plot_config)"
   ]
  },
  {
   "cell_type": "markdown",
   "metadata": {
    "id": "YEl7Z-dvdp7_"
   },
   "source": [
    "### run TxTl"
   ]
  },
  {
   "cell_type": "code",
   "execution_count": 12,
   "metadata": {
    "id": "n0HSyUwXdp7_"
   },
   "outputs": [],
   "source": [
    "# tsc_trl configuration\n",
    "txtl_config = {}\n",
    "txtl_exp_settings = {'experiment_id': 'TXTL'}\n",
    "txtl_plot_config = {\n",
    "    'variables':[\n",
    "        {\n",
    "            'variable': ('Protein', ('X', 'milligram / milliliter')),\n",
    "            'color': store_colors['Protein']\n",
    "        },\n",
    "        {\n",
    "            'variable': ('mRNA', ('C', 'milligram / milliliter')),\n",
    "            'color': store_colors['mRNA']\n",
    "        },\n",
    "        {\n",
    "            'variable': ('DNA', ('G', 'milligram / milliliter')), \n",
    "            'color': store_colors['DNA']\n",
    "        },\n",
    "    ],\n",
    "    'filename': 'txtl_output.pdf',\n",
    "    **plot_var_config}\n",
    "tl_initial_state = {\n",
    "    'mRNA': {'C': 0.0 * units.mg / units.mL},\n",
    "    'Protein': {'X': 0.0 * units.mg / units.mL}}"
   ]
  },
  {
   "cell_type": "code",
   "execution_count": 13,
   "metadata": {
    "colab": {
     "base_uri": "https://localhost:8080/",
     "height": 508
    },
    "id": "WWRylDDpTvtd",
    "outputId": "50f411e5-bbdb-4bf4-fb83-74722583f054"
   },
   "outputs": [
    {
     "name": "stdout",
     "output_type": "stream",
     "text": [
      "\n",
      "Experiment ID: TXTL\n",
      "Created: 03/12/2021 at 10:14:44\n",
      "Completed in 0.437020 seconds\n",
      "Writing out/txtl_output.pdf\n"
     ]
    },
    {
     "data": {
      "image/png": "[encoded data removed]",
      "text/plain": [
       "<Figure size 720x432 with 3 Axes>"
      ]
     },
     "metadata": {
      "needs_background": "light"
     },
     "output_type": "display_data"
    }
   ],
   "source": [
    "# construct TxTl\n",
    "txtl_composite = TxTl(txtl_config)\n",
    "\n",
    "# make the experiment\n",
    "txtl_experiment = composer_in_experiment(\n",
    "    txtl_composite, txtl_exp_settings, tl_initial_state)\n",
    "\n",
    "# run it and retrieve the data that was emitted to the simulation log\n",
    "txtl_experiment.update(10000)\n",
    "txtl_output = txtl_experiment.emitter.get_timeseries()\n",
    "\n",
    "# plot the output\n",
    "fig = plot_variables(txtl_output, **txtl_plot_config)"
   ]
  },
  {
   "cell_type": "markdown",
   "metadata": {
    "id": "-yx-H4Cpzkzq"
   },
   "source": [
    "# **3. Adding Complexity** \n",
    "\n",
    "Process modularity allows modelers to iterate on model design by swapping out different models.\n",
    "We demonstrated this by replacing the deterministic Transcription Process with a Stochastic Transcription Process. \n",
    "\n",
    "Stochastic transcription requires variable timesteps, which Vivarium accomodates with multi-timestepping.\n",
    "<center><img src=\"images/dynamics.png\" width=900/></center>"
   ]
  },
  {
   "cell_type": "markdown",
   "metadata": {
    "id": "qjINXWcEdp7_"
   },
   "source": [
    "## StochasticTx: a stochastic transcription process\n",
    "This process uses the [Gillespie algorithm](https://en.wikipedia.org/wiki/Gillespie_algorithm) in its `next_update()` method."
   ]
  },
  {
   "cell_type": "code",
   "execution_count": 14,
   "metadata": {
    "id": "CIKwqhrbTvte"
   },
   "outputs": [],
   "source": [
    "class StochasticTx(Process):\n",
    "\n",
    "    defaults = {\n",
    "        'ktsc': 1e0,\n",
    "        'kdeg': 1e-3}\n",
    "\n",
    "    def __init__(self, parameters=None):\n",
    "        super().__init__(parameters)\n",
    "        self.ktsc = self.parameters['ktsc']\n",
    "        self.kdeg = self.parameters['kdeg']\n",
    "        self.stoichiometry = np.array([[0, 1], [0, -1]])\n",
    "        self.time_left = None\n",
    "        self.event = None\n",
    "\n",
    "        # initialize the next timestep\n",
    "        initial_state = self.initial_state()\n",
    "        self.calculate_timestep(initial_state)\n",
    "        \n",
    "    def initial_state(self, config=None):\n",
    "        return {\n",
    "            'DNA': {\n",
    "                'G': 1.0\n",
    "            },\n",
    "            'mRNA': {\n",
    "                'C': 1.0\n",
    "            }\n",
    "        }\n",
    "    \n",
    "    def ports_schema(self):\n",
    "        return {\n",
    "            'DNA': {\n",
    "                'G': {\n",
    "                    '_default': 1.0,\n",
    "                    '_emit': True}},\n",
    "            'mRNA': {\n",
    "                'C': {\n",
    "                    '_default': 1.0,\n",
    "                    '_emit': True}}}\n",
    "\n",
    "    def calculate_timestep(self, states):\n",
    "        # retrieve the state values\n",
    "        g = states['DNA']['G']\n",
    "        c = states['mRNA']['C']\n",
    "\n",
    "        array_state = np.array([g, c])\n",
    "\n",
    "        # Calculate propensities\n",
    "        propensities = [\n",
    "            self.ktsc * array_state[0], self.kdeg * array_state[1]]\n",
    "        prop_sum = sum(propensities)\n",
    "\n",
    "        # The wait time is distributed exponentially\n",
    "        self.calculated_timestep = np.random.exponential(scale=prop_sum)\n",
    "        return self.calculated_timestep\n",
    "\n",
    "    def next_reaction(self, x):\n",
    "        \"\"\"get the next reaction and return a new state\"\"\"\n",
    "\n",
    "        propensities = [self.ktsc * x[0], self.kdeg * x[1]]\n",
    "        prop_sum = sum(propensities)\n",
    "\n",
    "        # Choose the next reaction\n",
    "        r_rxn = np.random.uniform()\n",
    "        i = 0\n",
    "        for i, _ in enumerate(propensities):\n",
    "            if r_rxn < propensities[i] / prop_sum:\n",
    "                # This means propensity i fires\n",
    "                break\n",
    "        x += self.stoichiometry[i]\n",
    "        return x\n",
    "\n",
    "    def next_update(self, timestep, states):\n",
    "\n",
    "        if self.time_left is not None:\n",
    "            if timestep >= self.time_left:\n",
    "                event = self.event\n",
    "                self.event = None\n",
    "                self.time_left = None\n",
    "                return event\n",
    "\n",
    "            self.time_left -= timestep\n",
    "            return {}\n",
    "\n",
    "        # retrieve the state values, put them in array\n",
    "        g = states['DNA']['G']\n",
    "        c = states['mRNA']['C']\n",
    "        array_state = np.array([g, c])\n",
    "\n",
    "        # calculate the next reaction\n",
    "        new_state = self.next_reaction(array_state)\n",
    "\n",
    "        # get delta mRNA\n",
    "        c1 = new_state[1]\n",
    "        d_c = c1 - c\n",
    "\n",
    "        update = {\n",
    "            'mRNA': {\n",
    "                'C': d_c}}\n",
    "\n",
    "        if self.calculated_timestep > timestep:\n",
    "            # didn't get all of our time, store the event for later\n",
    "            self.time_left = self.calculated_timestep - timestep\n",
    "            self.event = update\n",
    "            return {}\n",
    "\n",
    "        # return an update\n",
    "        return {\n",
    "            'mRNA': {\n",
    "                'C': d_c}}"
   ]
  },
  {
   "cell_type": "markdown",
   "metadata": {
    "id": "rmkx3d2ydp8A"
   },
   "source": [
    "\n",
    "## Auxiliary Processes\n",
    "* Connecting different Processes may require addition 'helper' Processes to make conversions and adapt their unique requirements different values.\n",
    "* Derivers are a subclass of Process that runs after the other dynamic Processes and derives some states from others.\n",
    "\n",
    "A **concentration deriver** convert the counts of the stochastic process to concentrations. This is available in the `process_registry`\n",
    "```python\n",
    "concentrations_deriver = process_registry.access('concentrations_deriver')\n",
    "```"
   ]
  },
  {
   "cell_type": "markdown",
   "metadata": {},
   "source": [
    "## Combining stochastic Tx with deterministic Tl"
   ]
  },
  {
   "cell_type": "code",
   "execution_count": 15,
   "metadata": {},
   "outputs": [],
   "source": [
    "# configuration data\n",
    "mw_config = {'C': 1e8 * units.g / units.mol}"
   ]
  },
  {
   "cell_type": "code",
   "execution_count": 16,
   "metadata": {
    "id": "MGMG9DEdTvth"
   },
   "outputs": [],
   "source": [
    "  \n",
    "class StochasticTxTl(Composer):\n",
    "    defaults = {\n",
    "        'stochastic_Tx': {},\n",
    "        'Tl': {'time_step': 1},\n",
    "        'concs': {\n",
    "            'molecular_weights': mw_config}}\n",
    "    \n",
    "    def generate_processes(self, config):\n",
    "        counts_to_concentration = process_registry.access('counts_to_concentration')\n",
    "        return {\n",
    "            'stochastic\\nTx': StochasticTx(config['stochastic_Tx']),\n",
    "            'Tl': Tl(config['Tl']),\n",
    "            'counts\\nto\\nmg/mL': counts_to_concentration(config['concs'])}\n",
    "\n",
    "    def generate_topology(self, config):\n",
    "        return {\n",
    "            'stochastic\\nTx': {\n",
    "                'DNA': ('DNA\\n(counts)',),\n",
    "                'mRNA': ('mRNA\\n(counts)',)\n",
    "            },\n",
    "            'Tl': {\n",
    "                'mRNA': ('mRNA\\n(mg/mL)',),\n",
    "                'Protein': ('Protein\\n(mg/mL)',)\n",
    "            },\n",
    "            'counts\\nto\\nmg/mL': {\n",
    "                'global': ('global',),\n",
    "                'input': ('mRNA\\n(counts)',),\n",
    "                'output': ('mRNA\\n(mg/mL)',)\n",
    "            }}\n",
    "    "
   ]
  },
  {
   "cell_type": "markdown",
   "metadata": {},
   "source": [
    "### plot StochasticTxTl topology"
   ]
  },
  {
   "cell_type": "code",
   "execution_count": 48,
   "metadata": {
    "colab": {
     "base_uri": "https://localhost:8080/"
    },
    "id": "WaB4DCCKomRF",
    "outputId": "d406a8c9-4809-4a9e-c242-86e7ec35ea79"
   },
   "outputs": [
    {
     "name": "stdout",
     "output_type": "stream",
     "text": [
      "Writing out/stochastic_txtl_topology.pdf\n"
     ]
    },
    {
     "data": {
      "image/png": "[encoded data removed]",
      "text/plain": [
       "<Figure size 612x432 with 1 Axes>"
      ]
     },
     "metadata": {},
     "output_type": "display_data"
    }
   ],
   "source": [
    "# plot topology after merge\n",
    "stochastic_topology_plot_config = copy.deepcopy(topology_plot_config)\n",
    "stochastic_topology_plot_config['settings']['graph_format'] = 'horizontal'\n",
    "stochastic_topology_plot_config['settings']['coordinates'] = {\n",
    "    'stochastic\\nTx': (1.5, 1),\n",
    "    'counts\\nto\\nmg/mL': (2.5, 1),\n",
    "    'Tl': (3.5, 1),\n",
    "    'DNA\\n(counts)': (1,-1),\n",
    "    'mRNA\\n(counts)': (2,-1),\n",
    "    'mRNA\\n(mg/mL)': (3,-1),\n",
    "    'Protein\\n(mg/mL)': (4,-1)}\n",
    "stochastic_topology_plot_config['settings']['remove_nodes'] = ['global']\n",
    "stochastic_topology_plot_config['settings']['show_ports'] = False\n",
    "stochastic_topology_plot_config['settings']['node_distance'] = 2.5\n",
    "\n",
    "stochastic_txtl = StochasticTxTl()\n",
    "fig = plot_topology(\n",
    "    stochastic_txtl, \n",
    "    filename='stochastic_txtl_topology.pdf', \n",
    "    **stochastic_topology_plot_config)"
   ]
  },
  {
   "cell_type": "markdown",
   "metadata": {
    "id": "sph_Ot2Bdp8C"
   },
   "source": [
    "### run StochasticTxTl"
   ]
  },
  {
   "cell_type": "code",
   "execution_count": 18,
   "metadata": {
    "id": "1ce-1t6Ddp8D"
   },
   "outputs": [],
   "source": [
    "exp_settings = {\n",
    "    'settings': {\n",
    "        'experiment_id': 'stochastic_txtl'},\n",
    "    'initial_state': {\n",
    "            'DNA\\n(counts)': {\n",
    "                'G': 1.0\n",
    "            },\n",
    "            'mRNA\\n(counts)': {\n",
    "                'C': 0.0\n",
    "            },\n",
    "            'Protein\\n(mg/mL)': {\n",
    "                'X': 0.0 * units.mg / units.mL\n",
    "            }}}\n",
    "\n",
    "\n",
    "stoch_plot_config = {\n",
    "    'variables':[\n",
    "        {\n",
    "            'variable': ('Protein\\n(mg/mL)', ('X', 'milligram / milliliter')), \n",
    "            'color': store_colors['Protein'],\n",
    "            'display': 'Protein: X (mg/mL)'}, \n",
    "        {\n",
    "            'variable': ('mRNA\\n(mg/mL)', ('C', 'milligram / milliliter')), \n",
    "            'color': store_colors['mRNA'],\n",
    "            'display': 'mRNA: C (mg/mL)'}, \n",
    "        {\n",
    "            'variable': ('DNA\\n(counts)', 'G'), \n",
    "            'color': store_colors['DNA'],\n",
    "            'display': 'DNA: G (counts)'}, \n",
    "    ],\n",
    "    'filename': 'stochastic_txtl_output.pdf',\n",
    "    **plot_var_config}"
   ]
  },
  {
   "cell_type": "code",
   "execution_count": 19,
   "metadata": {
    "colab": {
     "base_uri": "https://localhost:8080/",
     "height": 508
    },
    "id": "LYa13RQUTvti",
    "outputId": "27aa5771-1751-4588-dc02-59f395a72042"
   },
   "outputs": [
    {
     "name": "stdout",
     "output_type": "stream",
     "text": [
      "\n",
      "Experiment ID: stochastic_txtl\n",
      "Created: 03/12/2021 at 10:14:46\n",
      "Completed in 0.737797 seconds\n",
      "Writing out/stochastic_txtl_output.pdf\n"
     ]
    },
    {
     "data": {
      "image/png": "[encoded data removed]",
      "text/plain": [
       "<Figure size 720x432 with 3 Axes>"
      ]
     },
     "metadata": {
      "needs_background": "light"
     },
     "output_type": "display_data"
    }
   ],
   "source": [
    "# make the experiment\n",
    "stoch_experiment = composer_in_experiment(stochastic_txtl, **exp_settings)\n",
    "\n",
    "# simulate and retrieve the data\n",
    "stoch_experiment.update(1000)\n",
    "stochastic_txtl_output = stoch_experiment.emitter.get_timeseries()\n",
    "\n",
    "# plot output\n",
    "fig = plot_variables(stochastic_txtl_output, **stoch_plot_config)"
   ]
  },
  {
   "cell_type": "markdown",
   "metadata": {},
   "source": [
    "### plot variable timesteps\n",
    "`StochasticTx` has variable timesteps, and `Tl` has regular timesteps of 1 second. So no absolute timestep greater than 1 second can occur. Each process updates according to its own timestep."
   ]
  },
  {
   "cell_type": "code",
   "execution_count": 20,
   "metadata": {},
   "outputs": [
    {
     "data": {
      "text/plain": [
       "Text(0.5, 0, 'timestep (seconds)')"
      ]
     },
     "execution_count": 20,
     "metadata": {},
     "output_type": "execute_result"
    },
    {
     "data": {
      "image/png": "[encoded data removed]",
      "text/plain": [
       "<Figure size 432x288 with 1 Axes>"
      ]
     },
     "metadata": {
      "needs_background": "light"
     },
     "output_type": "display_data"
    }
   ],
   "source": [
    "times = stochastic_txtl_output['time']\n",
    "\n",
    "# calculate the timesteps\n",
    "timesteps = [] \n",
    "for x, y in zip(times[0::], times[1::]): \n",
    "#     if y-x != 1.0:\n",
    "        timesteps.append(y-x) \n",
    "        \n",
    "fig = plt.hist(timesteps, 50)\n",
    "plt.xlabel('timestep (seconds)')"
   ]
  },
  {
   "cell_type": "markdown",
   "metadata": {
    "id": "vnxGsH8hdp8D"
   },
   "source": [
    "# **4. Growth and Division**\n",
    "\n",
    "We here extend the Transcription/Translation model with division. This require many instances of the processes to run simultaneously in a single simulation. To support such phenomena, Vivarium adopts an agent-based modeling bigraphical formalism, with embedded compartments that can spawn new compartments during runtime. \n",
    "\n",
    "<!-- <center><img src=\"images/tsc_trl_divide.png\" width=700/></center> -->"
   ]
  },
  {
   "cell_type": "markdown",
   "metadata": {
    "id": "_CFvJ7jGUQfW"
   },
   "source": [
    "## Hierarchical Embedding\n",
    "\n",
    "To support this requirement, Processes can be embedded in a hierarchical representation of embedded compartments.\n",
    "Vivarium uses a bigraph formalism -- a graph with embeddable nodes that can be placed within other nodes.\n",
    "\n",
    "<center><img src=\"images/embedding.png\" width=900/></center>"
   ]
  },
  {
   "cell_type": "markdown",
   "metadata": {
    "id": "bnd6wbXfdp8D"
   },
   "source": [
    "## Hierarchy updates\n",
    "\n",
    "The structure of a hierarchy has its own type of constructive dynamics with formation/destruction, merging/division, engulfing/expelling of compartments\n",
    "\n",
    "<center><img src=\"images/constructive.png\" width=900/></center>"
   ]
  },
  {
   "cell_type": "code",
   "execution_count": 21,
   "metadata": {
    "id": "oFFunYcaoOSR"
   },
   "outputs": [],
   "source": [
    "# add imported division processes\n",
    "from vivarium.processes.divide_condition import DivideCondition\n",
    "from vivarium.processes.meta_division import MetaDivision\n",
    "from vivarium.processes.growth_rate import GrowthRate\n",
    "\n",
    "TIMESTEP = 10\n",
    "\n",
    "\n",
    "class TxTlDivision(Composer):\n",
    "    defaults = {\n",
    "        'stochastic_Tx': {'time_step': TIMESTEP},\n",
    "        'Tl': {'time_step': TIMESTEP},\n",
    "        'concs': {\n",
    "            'molecular_weights': mw_config},\n",
    "        'growth': {\n",
    "            'time_step': 1,\n",
    "            'default_growth_rate': 0.0005,\n",
    "            'default_growth_noise': 0.001,\n",
    "            'variables': ['volume']},\n",
    "        'agent_id': np.random.randint(0, 100),\n",
    "        'divide_condition': {\n",
    "            'threshold': 2.5 * units.fL},\n",
    "        'agents_path': ('..', '..', 'agents',),\n",
    "        'daughter_path': tuple(),\n",
    "        '_schema': {\n",
    "            'concs': {\n",
    "                'input': {'C': {'_divider': 'binomial'}},\n",
    "                'output': {'C': {'_divider': 'set'}},\n",
    "            }\n",
    "        }\n",
    "    }\n",
    "\n",
    "    def generate_processes(self, config):\n",
    "        counts_to_concentration = process_registry.access('counts_to_concentration')\n",
    "        division_config = dict(\n",
    "            daughter_path=config['daughter_path'],\n",
    "            agent_id=config['agent_id'],\n",
    "            composer=self)\n",
    "\n",
    "        return {\n",
    "            'stochastic_Tx': StochasticTx(config['stochastic_Tx']),\n",
    "            'Tl': Tl(config['Tl']),\n",
    "            'concs': counts_to_concentration(config['concs']),\n",
    "            'growth': GrowthRate(config['growth']),\n",
    "            'divide_condition': DivideCondition(config['divide_condition']),\n",
    "            'division': MetaDivision(division_config),\n",
    "        }\n",
    "\n",
    "    def generate_topology(self, config):\n",
    "        return {\n",
    "            'stochastic_Tx': {\n",
    "                'DNA': ('DNA',),\n",
    "                'mRNA': ('RNA_counts',)\n",
    "            },\n",
    "            'Tl': {\n",
    "                'mRNA': ('RNA',),\n",
    "                'Protein': ('Protein',)\n",
    "            },\n",
    "            'concs': {\n",
    "                'global': ('boundary',),\n",
    "                'input': ('RNA_counts',),\n",
    "                'output': ('RNA',)\n",
    "            },\n",
    "            'growth': {\n",
    "                'variables': ('boundary',),\n",
    "                'rates': ('rates',)\n",
    "            },\n",
    "            'divide_condition': {\n",
    "                'variable': ('boundary', 'volume',),\n",
    "                'divide': ('boundary', 'divide',)},\n",
    "            'division': {\n",
    "                'global': ('boundary',),\n",
    "                'agents': config['agents_path']}\n",
    "        }\n",
    "\n",
    "  "
   ]
  },
  {
   "cell_type": "markdown",
   "metadata": {
    "id": "Q4wclwihdp8E"
   },
   "source": [
    "## Colony-level processes"
   ]
  },
  {
   "cell_type": "code",
   "execution_count": 22,
   "metadata": {},
   "outputs": [],
   "source": [
    "from vivarium.library.units import Quantity\n",
    "\n",
    "def calculate_volume(value, path, node):\n",
    "    if isinstance(node.value, Quantity) and node.units == units.fL:\n",
    "        return value + node.value\n",
    "    else:\n",
    "        return value\n",
    "    \n",
    "class ColonyVolume(Deriver):\n",
    "    defaults = {\n",
    "        'from_path': ('..', '..', 'agents')}\n",
    "    def ports_schema(self):\n",
    "        return {\n",
    "            'global': {\n",
    "                'volume': {\n",
    "                    '_default': 1.0 * units.fL,\n",
    "                    '_updater': 'set',\n",
    "                    '_emit': True}}}\n",
    "    def next_update(self, timestep, states):\n",
    "        return {\n",
    "            'global': {\n",
    "                'volume': {\n",
    "                    '_reduce': {\n",
    "                        'reducer': calculate_volume,\n",
    "                        'from': self.parameters['from_path'],\n",
    "                        'initial': 0.0 * units.fL}}}}"
   ]
  },
  {
   "cell_type": "code",
   "execution_count": 64,
   "metadata": {},
   "outputs": [],
   "source": [
    "# configure hierarchy\n",
    "# agent config\n",
    "agent_id = '0'\n",
    "agent_config = {'agent_id': agent_id}\n",
    "\n",
    "# environment config\n",
    "env_config = {}\n",
    "\n",
    "# initial state\n",
    "hierarchy_initial_state = {\n",
    "    'agents': {\n",
    "        agent_id: {\n",
    "            'boundary': {'volume': 1.2 * units.fL},\n",
    "            'DNA': {'G': 1},\n",
    "            'RNA': {'C': 5 * units.mg / units.mL},\n",
    "            'Protein': {'X': 50 * units.mg / units.mL}}}}\n",
    "\n",
    "# experiment settings\n",
    "exp_settings = {\n",
    "    'experiment_id': 'hierarchy_experiment',\n",
    "    'initial_state': hierarchy_initial_state,\n",
    "    'emit_step': 100.0}\n",
    "\n",
    "# plot config\n",
    "hierarchy_plot_settings = {\n",
    "    'include_paths': [\n",
    "        ('RNA_counts', 'C'),\n",
    "        ('RNA', 'C'),\n",
    "        ('DNA', 'G'),\n",
    "        ('Protein', 'X'),\n",
    "    ],\n",
    "    'store_order': ('Protein', 'RNA_counts', 'DNA', 'RNA'),\n",
    "    'column_width': 6,\n",
    "    'row_height': 1.0,\n",
    "    'stack_column': True,\n",
    "    'tick_label_size': 10,\n",
    "    'title_size': 10}\n",
    "\n",
    "colony_plot_config = {\n",
    "    'variables': [('global', ('volume', 'femtoliter'))],\n",
    "    'filename': 'colony_growth.pdf',\n",
    "    **plot_var_config}\n",
    "\n",
    "\n",
    "# hierarchy topology plot\n",
    "agent_0_string = 'agents\\n0'\n",
    "agent_1_string = 'agents\\n00'\n",
    "agent_2_string = 'agents\\n01'\n",
    "process_column = -0.2\n",
    "colony_column = 3.0\n",
    "agent_row = -3.2\n",
    "agent_column = 0.5\n",
    "row_1 = 0\n",
    "row_2 = -1\n",
    "row_3 = -2\n",
    "row_4 = -3\n",
    "node_space = 0.75\n",
    "vertical_space=0.9\n",
    "bump = 0.1\n",
    "hierarchy_topology_plot_config = {\n",
    "    'settings': {\n",
    "        'graph_format': 'hierarchy',\n",
    "        'node_size': 6000,\n",
    "        'process_color': 'k',\n",
    "        'store_color': 'dimgray',\n",
    "        'store_colors': {\n",
    "            'global': 'navy',\n",
    "            'agents': 'navy',\n",
    "            f'{agent_0_string}\\nboundary': global_color,\n",
    "            f'{agent_0_string}\\nDNA': dna_color,\n",
    "            f'{agent_0_string}\\nRNA': rna_color,\n",
    "            f'{agent_0_string}\\nRNA_counts': rna_color,\n",
    "            f'{agent_0_string}\\nProtein': protein_color,\n",
    "        },\n",
    "        'dashed_edges': True,\n",
    "        'show_ports': False,\n",
    "        'coordinates': {\n",
    "            # Processes\n",
    "            # environment\n",
    "#             'ColonyVolume': (colony_column, 0),\n",
    "            \n",
    "            # main\n",
    "            'agents\\n0\\nstochastic_Tx': (agent_column, agent_row*vertical_space),\n",
    "            'agents\\n0\\nTl': (agent_column+node_space, agent_row*vertical_space),\n",
    "            'agents\\n0\\nconcs': (agent_column+2*node_space, agent_row*vertical_space),\n",
    "            \n",
    "            # division\n",
    "            'agents\\n0\\ndivision': (agent_column+2.5*node_space, -1.4*node_space*vertical_space),\n",
    "            \n",
    "            # Store\n",
    "            'agents': (1.5*node_space, row_1*vertical_space),\n",
    "#             'global': (2.5*node_space, row_1*vertical_space),\n",
    "            'agents\\n0': (1.5*node_space, row_2*vertical_space),\n",
    "            'agents\\n0\\nagents': (1.5*node_space, row_1*vertical_space),\n",
    "            'agents\\n0\\nDNA': (0, row_3*vertical_space),\n",
    "            'agents\\n0\\nRNA_counts': (node_space+bump, row_3*vertical_space),\n",
    "            'agents\\n0\\nRNA': (node_space, (row_3-bump)*vertical_space),\n",
    "            'agents\\n0\\nProtein': (2*node_space+bump, row_3*vertical_space),\n",
    "            'agents\\n0\\nboundary': (3*node_space+bump, row_3*vertical_space),\n",
    "        },\n",
    "        'node_labels': {\n",
    "            # Processes\n",
    "            # environment\n",
    "#             'ColonyVolume': 'Colony\\nVolume',\n",
    "            # agent\n",
    "            'agents\\n0\\nstochastic_Tx': 'stochastic\\nTx',\n",
    "            'agents\\n0\\nTl': 'Tl',\n",
    "            'agents\\n0\\nconcs': 'counts\\nto\\nmg/mL',\n",
    "            'agents\\n0\\ngrowth': 'growth',\n",
    "            'agents\\n0\\ndivision': 'division',\n",
    "            # Stores\n",
    "            # third\n",
    "            'agents\\n0': 'agent0',\n",
    "            'agents\\n0\\nDNA': 'DNA',\n",
    "            'agents\\n0\\nRNA': 'RNA',\n",
    "            'agents\\n0\\nrates': 'rates',\n",
    "            'agents\\n0\\nRNA_counts': '',\n",
    "            'agents\\n0\\nboundary': 'boundary',\n",
    "            'agents\\n0\\nProtein': 'Protein',\n",
    "            # fourth\n",
    "            'agents\\n0\\nrates\\ngrowth_rate': 'growth_rate',\n",
    "            'agents\\n0\\nrates\\ngrowth_noise': 'growth_noise',\n",
    "        },\n",
    "        'remove_nodes': [\n",
    "            'ColonyVolume',\n",
    "            'global',\n",
    "            'agents\\n0\\nrates\\ngrowth_rate',\n",
    "            'agents\\n0\\nrates\\ngrowth_noise',\n",
    "            'agents\\n0\\nrates',\n",
    "            'agents\\n0\\ngrowth',\n",
    "            'agents\\n0\\ndivide_condition',\n",
    "            'agents\\n0\\nboundary\\ndivide',\n",
    "            'agents\\n0\\nboundary\\nvolume',\n",
    "        ]\n",
    "    },\n",
    "    'out_dir': 'out/'\n",
    "}\n",
    "\n",
    "# topology plot config for after division\n",
    "agent_2_dist = 3.5\n",
    "hierarchy_topology_plot_config2 = copy.deepcopy(hierarchy_topology_plot_config)\n",
    "\n",
    "# redo coordinates, labels, store_colors, and removal\n",
    "hierarchy_topology_plot_config2['settings']['node_distance'] = 2.5\n",
    "hierarchy_topology_plot_config2['settings']['coordinates'] = {}\n",
    "hierarchy_topology_plot_config2['settings']['node_labels'] = {}\n",
    "hierarchy_topology_plot_config2['settings']['store_colors'] = {}\n",
    "# hierarchy_topology_plot_config2['settings']['remove_nodes'] = []\n",
    "for node_id, coord in hierarchy_topology_plot_config['settings']['coordinates'].items():\n",
    "    if agent_0_string in node_id:\n",
    "        new_id1 = node_id.replace(agent_0_string, agent_1_string)\n",
    "        new_id2 = node_id.replace(agent_0_string, agent_2_string)\n",
    "        hierarchy_topology_plot_config2['settings']['coordinates'][new_id1] = coord\n",
    "        hierarchy_topology_plot_config2['settings']['coordinates'][new_id2] = (coord[0]+agent_2_dist, coord[1])\n",
    "    else:\n",
    "        hierarchy_topology_plot_config2['settings']['coordinates'][node_id] = (coord[0]+agent_2_dist/2, coord[1])\n",
    "        \n",
    "for node_id, label in hierarchy_topology_plot_config['settings']['node_labels'].items():\n",
    "    if agent_0_string in node_id:\n",
    "        new_id1 = node_id.replace(agent_0_string, agent_1_string)\n",
    "        new_id2 = node_id.replace(agent_0_string, agent_2_string)\n",
    "        hierarchy_topology_plot_config2['settings']['node_labels'][new_id1] = label\n",
    "        hierarchy_topology_plot_config2['settings']['node_labels'][new_id2] = label\n",
    "    else:\n",
    "        hierarchy_topology_plot_config2['settings']['node_labels'][node_id] = label\n",
    "hierarchy_topology_plot_config2['settings']['node_labels']['agents\\n00'] = 'agent1'\n",
    "hierarchy_topology_plot_config2['settings']['node_labels']['agents\\n01'] = 'agent2'\n",
    "\n",
    "for node_id, color in hierarchy_topology_plot_config['settings']['store_colors'].items():\n",
    "    if agent_0_string in node_id:\n",
    "        new_id1 = node_id.replace(agent_0_string, agent_1_string)\n",
    "        new_id2 = node_id.replace(agent_0_string, agent_2_string)\n",
    "        hierarchy_topology_plot_config2['settings']['store_colors'][new_id1] = color\n",
    "        hierarchy_topology_plot_config2['settings']['store_colors'][new_id2] = color\n",
    "    else:\n",
    "        hierarchy_topology_plot_config2['settings']['store_colors'][node_id] = color\n",
    "        \n",
    "for node_id in hierarchy_topology_plot_config['settings']['remove_nodes']:\n",
    "    if agent_0_string in node_id:\n",
    "        new_id1 = node_id.replace(agent_0_string, agent_1_string)\n",
    "        new_id2 = node_id.replace(agent_0_string, agent_2_string)\n",
    "        hierarchy_topology_plot_config2['settings']['remove_nodes'].extend([new_id1, new_id2])\n"
   ]
  },
  {
   "cell_type": "markdown",
   "metadata": {},
   "source": [
    "### use composite.merge to combine colony processes with agents"
   ]
  },
  {
   "cell_type": "code",
   "execution_count": 65,
   "metadata": {},
   "outputs": [],
   "source": [
    "txtl_composer = TxTlDivision(agent_config)\n",
    "txtl_composite = txtl_composer.generate(\n",
    "    path=('agents', agent_id))\n",
    "\n",
    "colony_composer = ColonyVolume(env_config)\n",
    "colony_composite = colony_composer.generate()\n",
    "\n",
    "# perform merge\n",
    "txtl_composite.merge(composite=colony_composite)"
   ]
  },
  {
   "cell_type": "markdown",
   "metadata": {},
   "source": [
    "### plot hierarchy topology with before division"
   ]
  },
  {
   "cell_type": "code",
   "execution_count": 66,
   "metadata": {},
   "outputs": [
    {
     "name": "stdout",
     "output_type": "stream",
     "text": [
      "Writing out/hierarchy_topology.pdf\n"
     ]
    },
    {
     "name": "stderr",
     "output_type": "stream",
     "text": [
      "/Users/eranagmon/.pyenv/versions/3.8.3/envs/notebooks/lib/python3.8/site-packages/numpy/core/_asarray.py:136: VisibleDeprecationWarning: Creating an ndarray from ragged nested sequences (which is a list-or-tuple of lists-or-tuples-or ndarrays with different lengths or shapes) is deprecated. If you meant to do this, you must specify 'dtype=object' when creating the ndarray\n",
      "  return array(a, dtype, copy=False, order=order, subok=True)\n"
     ]
    },
    {
     "data": {
      "image/png": "[encoded data removed]",
      "text/plain": [
       "<Figure size 585x694.08 with 1 Axes>"
      ]
     },
     "metadata": {},
     "output_type": "display_data"
    }
   ],
   "source": [
    "fig = plot_topology(\n",
    "    txtl_composite, \n",
    "    filename='hierarchy_topology.pdf', \n",
    "    **hierarchy_topology_plot_config)"
   ]
  },
  {
   "cell_type": "markdown",
   "metadata": {},
   "source": [
    "### plot hierarchy topology after division"
   ]
  },
  {
   "cell_type": "code",
   "execution_count": 67,
   "metadata": {},
   "outputs": [
    {
     "name": "stdout",
     "output_type": "stream",
     "text": [
      "\n",
      "Experiment ID: hierarchy_experiment\n",
      "Created: 03/12/2021 at 10:55:19\n",
      "Completed in 3.82 seconds\n"
     ]
    }
   ],
   "source": [
    "# initial state\n",
    "initial_state = {\n",
    "    'agents': {\n",
    "        agent_id: {\n",
    "            'boundary': {'volume': 1.2 * units.fL},\n",
    "            'DNA': {'G': 1},\n",
    "            'RNA': {'C': 5 * units.mg / units.mL},\n",
    "            'Protein': {'X': 50 * units.mg / units.mL}}}}\n",
    "\n",
    "# make a copy of the composite\n",
    "txtl_composite1 = copy.deepcopy(txtl_composite)\n",
    "\n",
    "# make the experiment\n",
    "settings = {}\n",
    "hierarchy_experiment1 = composite_in_experiment(\n",
    "    composite=txtl_composite1, \n",
    "    settings=exp_settings, \n",
    "    initial_state=initial_state)\n",
    "\n",
    "# run the experiment long enough to divide\n",
    "hierarchy_experiment1.update(2000)"
   ]
  },
  {
   "cell_type": "code",
   "execution_count": 68,
   "metadata": {},
   "outputs": [
    {
     "name": "stdout",
     "output_type": "stream",
     "text": [
      "Writing out/hierarchy_topology_2.pdf\n"
     ]
    },
    {
     "name": "stderr",
     "output_type": "stream",
     "text": [
      "/Users/eranagmon/.pyenv/versions/3.8.3/envs/notebooks/lib/python3.8/site-packages/numpy/core/_asarray.py:136: VisibleDeprecationWarning: Creating an ndarray from ragged nested sequences (which is a list-or-tuple of lists-or-tuples-or ndarrays with different lengths or shapes) is deprecated. If you meant to do this, you must specify 'dtype=object' when creating the ndarray\n",
      "  return array(a, dtype, copy=False, order=order, subok=True)\n"
     ]
    },
    {
     "data": {
      "image/png": "[encoded data removed]",
      "text/plain": [
       "<Figure size 1129.5x590.4 with 1 Axes>"
      ]
     },
     "metadata": {},
     "output_type": "display_data"
    }
   ],
   "source": [
    "fig = plot_topology(\n",
    "    txtl_composite1, \n",
    "    filename='hierarchy_topology_2.pdf', \n",
    "    **hierarchy_topology_plot_config2)"
   ]
  },
  {
   "cell_type": "markdown",
   "metadata": {},
   "source": [
    "### run hierarchy experiment"
   ]
  },
  {
   "cell_type": "code",
   "execution_count": 40,
   "metadata": {},
   "outputs": [
    {
     "name": "stdout",
     "output_type": "stream",
     "text": [
      "\n",
      "Experiment ID: hierarchy_experiment\n",
      "Created: 03/12/2021 at 10:20:28\n",
      "Completed in 124.36 seconds\n"
     ]
    }
   ],
   "source": [
    "# initial state\n",
    "initial_state = {\n",
    "    'agents': {\n",
    "        agent_id: {\n",
    "            'boundary': {'volume': 1.2 * units.fL},\n",
    "            'DNA': {'G': 1},\n",
    "            'RNA': {'C': 5 * units.mg / units.mL},\n",
    "            'Protein': {'X': 50 * units.mg / units.mL}}}}\n",
    "\n",
    "# make the experiment\n",
    "settings = {}\n",
    "hierarchy_experiment = composite_in_experiment(\n",
    "    composite=txtl_composite, \n",
    "    settings=exp_settings, \n",
    "    initial_state=initial_state)\n",
    "\n",
    "# run the experiment\n",
    "hierarchy_experiment.update(6000)"
   ]
  },
  {
   "cell_type": "code",
   "execution_count": 41,
   "metadata": {},
   "outputs": [],
   "source": [
    "# retrieve the data\n",
    "hierarchy_data = hierarchy_experiment.emitter.get_data_unitless()\n",
    "path_ts = hierarchy_experiment.emitter.get_path_timeseries()\n",
    "\n",
    "# add agent colors\n",
    "paths = list(path_ts.keys())\n",
    "agent_ids = set([path[1] for path in paths])\n",
    "agent_colors = {\n",
    "    agent_id: 'cornflowerblue' if all(e == agent_id[0] for e in agent_id) \n",
    "    else 'dimgray' \n",
    "    for agent_id in agent_ids}\n",
    "hierarchy_plot_settings.update({'agent_colors': agent_colors})\n"
   ]
  },
  {
   "cell_type": "code",
   "execution_count": 42,
   "metadata": {},
   "outputs": [
    {
     "data": {
      "image/png": "[encoded data removed]",
      "text/plain": [
       "<Figure size 432x360 with 4 Axes>"
      ]
     },
     "metadata": {
      "needs_background": "light"
     },
     "output_type": "display_data"
    }
   ],
   "source": [
    "# make plot\n",
    "multigen_fig = plot_agents_multigen(hierarchy_data, hierarchy_plot_settings)"
   ]
  },
  {
   "cell_type": "markdown",
   "metadata": {
    "id": "r_w0OstTdp8G"
   },
   "source": [
    "### Colony-level metrics"
   ]
  },
  {
   "cell_type": "code",
   "execution_count": 43,
   "metadata": {
    "colab": {
     "base_uri": "https://localhost:8080/",
     "height": 225
    },
    "id": "-Ud6KP7cdp8G",
    "outputId": "3721bf02-dafa-472f-f35c-a884a9ae9cfa"
   },
   "outputs": [],
   "source": [
    "gd_timeseries = hierarchy_experiment.emitter.get_timeseries()\n",
    "colony_series = gd_timeseries['global'][('volume', 'femtoliter')]\n",
    "time_vec = gd_timeseries['time']"
   ]
  },
  {
   "cell_type": "code",
   "execution_count": 44,
   "metadata": {},
   "outputs": [],
   "source": [
    "# get the RNA_counts axis, to replace with colony volume\n",
    "allaxes = multigen_fig.get_axes()\n",
    "ax = None\n",
    "for axis in allaxes:\n",
    "    if axis.get_title() == 'RNA \\nC':\n",
    "        ax = axis"
   ]
  },
  {
   "cell_type": "code",
   "execution_count": 45,
   "metadata": {},
   "outputs": [
    {
     "name": "stdout",
     "output_type": "stream",
     "text": [
      "Writing out/growth_division_output.pdf\n"
     ]
    },
    {
     "data": {
      "image/png": "[encoded data removed]",
      "text/plain": [
       "<Figure size 432x360 with 4 Axes>"
      ]
     },
     "execution_count": 45,
     "metadata": {},
     "output_type": "execute_result"
    }
   ],
   "source": [
    "# multigen_fig\n",
    "ax.clear()\n",
    "ax.plot(time_vec, colony_series, linewidth=3.0, color='darkslategray')\n",
    "ax.set_xlim([time_vec[0], time_vec[-1]])\n",
    "ax.set_title('colony\\nvolume', rotation=0)\n",
    "ax.set_xlabel('time (s)')\n",
    "ax.spines['bottom'].set_position(('axes', -0.2))\n",
    "save_fig_to_dir(multigen_fig, 'growth_division_output.pdf')\n",
    "multigen_fig"
   ]
  },
  {
   "cell_type": "code",
   "execution_count": null,
   "metadata": {},
   "outputs": [],
   "source": []
  }
 ],
 "metadata": {
  "celltoolbar": "Slideshow",
  "colab": {
   "collapsed_sections": [],
   "name": "Vivarium interface basics.ipynb",
   "provenance": [],
   "toc_visible": true
  },
  "kernelspec": {
   "display_name": "Python 3",
   "language": "python",
   "name": "python3"
  },
  "language_info": {
   "codemirror_mode": {
    "name": "ipython",
    "version": 3
   },
   "file_extension": ".py",
   "mimetype": "text/x-python",
   "name": "python",
   "nbconvert_exporter": "python",
   "pygments_lexer": "ipython3",
   "version": "3.8.3"
  },
  "toc": {
   "base_numbering": 1,
   "nav_menu": {},
   "number_sections": false,
   "sideBar": true,
   "skip_h1_title": false,
   "title_cell": "Table of Contents",
   "title_sidebar": "Contents",
   "toc_cell": false,
   "toc_position": {
    "height": "calc(100% - 180px)",
    "left": "10px",
    "top": "150px",
    "width": "426.3958435058594px"
   },
   "toc_section_display": true,
   "toc_window_display": true
  }
 },
 "nbformat": 4,
 "nbformat_minor": 1
}
